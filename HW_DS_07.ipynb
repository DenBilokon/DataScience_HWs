{
  "nbformat": 4,
  "nbformat_minor": 0,
  "metadata": {
    "colab": {
      "provenance": [],
      "toc_visible": true,
      "mount_file_id": "1EscSKjTzSJ8eUSOZrEM6p-Co-XBRJh7n",
      "authorship_tag": "ABX9TyN6IZClDux2xfKwetlWRfX9"
    },
    "kernelspec": {
      "name": "python3",
      "display_name": "Python 3"
    },
    "language_info": {
      "name": "python"
    }
  },
  "cells": [
    {
      "cell_type": "markdown",
      "source": [
        "Візьміть датасет movielens і побудуйте модель матричної факторизації. У даній бібліотеці він має назву SVD. Підберіть найкращі параметри за допомогою крос-валідації, також поекспериментуйте з іншими алгоритмами розрахунків (SVD++, NMF) і оберіть той, який буде оптимальним."
      ],
      "metadata": {
        "id": "ZqiL86IzMF9L"
      }
    },
    {
      "cell_type": "code",
      "execution_count": 2,
      "metadata": {
        "colab": {
          "base_uri": "https://localhost:8080/"
        },
        "id": "Kz8eh-lxL9v1",
        "outputId": "6e2ac3c1-d3ac-41ec-9afc-0341d83e0a6a"
      },
      "outputs": [
        {
          "output_type": "stream",
          "name": "stdout",
          "text": [
            "Collecting surprise\n",
            "  Downloading surprise-0.1-py2.py3-none-any.whl (1.8 kB)\n",
            "Collecting scikit-surprise (from surprise)\n",
            "  Downloading scikit-surprise-1.1.3.tar.gz (771 kB)\n",
            "\u001b[2K     \u001b[90m━━━━━━━━━━━━━━━━━━━━━━━━━━━━━━━━━━━━━━━\u001b[0m \u001b[32m772.0/772.0 kB\u001b[0m \u001b[31m6.5 MB/s\u001b[0m eta \u001b[36m0:00:00\u001b[0m\n",
            "\u001b[?25h  Preparing metadata (setup.py) ... \u001b[?25l\u001b[?25hdone\n",
            "Requirement already satisfied: joblib>=1.0.0 in /usr/local/lib/python3.10/dist-packages (from scikit-surprise->surprise) (1.3.2)\n",
            "Requirement already satisfied: numpy>=1.17.3 in /usr/local/lib/python3.10/dist-packages (from scikit-surprise->surprise) (1.23.5)\n",
            "Requirement already satisfied: scipy>=1.3.2 in /usr/local/lib/python3.10/dist-packages (from scikit-surprise->surprise) (1.10.1)\n",
            "Building wheels for collected packages: scikit-surprise\n",
            "  Building wheel for scikit-surprise (setup.py) ... \u001b[?25l\u001b[?25hdone\n",
            "  Created wheel for scikit-surprise: filename=scikit_surprise-1.1.3-cp310-cp310-linux_x86_64.whl size=2811598 sha256=a07979fc51afd14d5a2a3c51080982c0b5c3ed4e2636f5872ebee6fc1e282cd7\n",
            "  Stored in directory: /root/.cache/pip/wheels/a5/ca/a8/4e28def53797fdc4363ca4af740db15a9c2f1595ebc51fb445\n",
            "Successfully built scikit-surprise\n",
            "Installing collected packages: scikit-surprise, surprise\n",
            "Successfully installed scikit-surprise-1.1.3 surprise-0.1\n"
          ]
        }
      ],
      "source": [
        "pip install surprise"
      ]
    },
    {
      "cell_type": "code",
      "source": [
        "import pandas as pd\n",
        "from surprise import Dataset, Reader\n",
        "from surprise import SVDpp, SVD, NMF, NormalPredictor, BaselineOnly, SlopeOne, KNNBasic, KNNWithMeans, KNNBaseline, CoClustering\n",
        "from surprise.model_selection import train_test_split, cross_validate\n",
        "from surprise import accuracy\n",
        "from hyperopt import hp\n",
        "import zipfile"
      ],
      "metadata": {
        "id": "I9DyH1DqMDxf"
      },
      "execution_count": 3,
      "outputs": []
    },
    {
      "cell_type": "code",
      "source": [
        "filename = '/content/drive/MyDrive/DS/Data_hw7.zip'\n",
        "with zipfile.ZipFile(filename, 'r') as zip_ref:\n",
        "    zip_ref.extractall()"
      ],
      "metadata": {
        "id": "Gc7apaqfMSKe"
      },
      "execution_count": 4,
      "outputs": []
    },
    {
      "cell_type": "code",
      "source": [
        "reader = Reader(line_format=u'user item rating', sep=',', rating_scale=(1, 6), skip_lines=1)\n",
        "data = Dataset.load_from_file('ml-latest-small/ratings.csv', reader=reader)\n",
        "display(data)"
      ],
      "metadata": {
        "colab": {
          "base_uri": "https://localhost:8080/",
          "height": 35
        },
        "id": "luo_NE9DQWTy",
        "outputId": "25f3b75d-4bf4-448a-84a3-d4ac2954aff1"
      },
      "execution_count": 5,
      "outputs": [
        {
          "output_type": "display_data",
          "data": {
            "text/plain": [
              "<surprise.dataset.DatasetAutoFolds at 0x7f4ae0da2c80>"
            ]
          },
          "metadata": {}
        }
      ]
    },
    {
      "cell_type": "code",
      "source": [
        "trainset, testset = train_test_split(data, test_size=0.2)\n",
        "print('Total ratings in dataset:', len(list(data.raw_ratings)))\n",
        "print('Len of trainset:', len(list(trainset.all_ratings())))\n",
        "print('Len of testset:', len(list(testset)))"
      ],
      "metadata": {
        "colab": {
          "base_uri": "https://localhost:8080/"
        },
        "id": "eYVSZjiUTB1I",
        "outputId": "ab2c8840-262b-453f-8ccc-897777dc4d8f"
      },
      "execution_count": 6,
      "outputs": [
        {
          "output_type": "stream",
          "name": "stdout",
          "text": [
            "Total ratings in dataset: 100836\n",
            "Len of trainset: 80668\n",
            "Len of testset: 20168\n"
          ]
        }
      ]
    },
    {
      "cell_type": "markdown",
      "source": [
        "Алгоритм SVD"
      ],
      "metadata": {
        "id": "hwYlgcffGp55"
      }
    },
    {
      "cell_type": "code",
      "source": [
        "algo_svd = SVD(n_factors=200, n_epochs=5, random_state=0)\n",
        "cv_results = cross_validate(algo_svd, data, measures=[\"RMSE\", \"MAE\"], cv=3, verbose=True)\n",
        "svd_rmse_mean = cv_results['test_rmse'].mean()\n",
        "svd_mae_mean = cv_results['test_mae'].mean()\n",
        "print('RMSE mean:', svd_rmse_mean)\n",
        "print('MAE mean:', svd_mae_mean)"
      ],
      "metadata": {
        "colab": {
          "base_uri": "https://localhost:8080/"
        },
        "id": "ZUNMbjpSXbqb",
        "outputId": "c7125c6d-5d1f-484b-ff10-fbdc5941798d"
      },
      "execution_count": 7,
      "outputs": [
        {
          "output_type": "stream",
          "name": "stdout",
          "text": [
            "Evaluating RMSE, MAE of algorithm SVD on 3 split(s).\n",
            "\n",
            "                  Fold 1  Fold 2  Fold 3  Mean    Std     \n",
            "RMSE (testset)    0.9045  0.9001  0.9044  0.9030  0.0020  \n",
            "MAE (testset)     0.7003  0.6989  0.6993  0.6995  0.0006  \n",
            "Fit time          0.31    0.53    0.47    0.44    0.09    \n",
            "Test time         0.24    0.23    0.85    0.44    0.29    \n",
            "RMSE mean: 0.902979782029779\n",
            "MAE mean: 0.6994922222668345\n"
          ]
        }
      ]
    },
    {
      "cell_type": "markdown",
      "source": [
        "Алгоритм SVD++"
      ],
      "metadata": {
        "id": "07f7pnVbGuBG"
      }
    },
    {
      "cell_type": "code",
      "source": [
        "algo_svd_pp = SVDpp(n_factors=200, n_epochs=5, random_state=0)\n",
        "cv_results = cross_validate(algo_svd_pp, data, measures=[\"RMSE\", \"MAE\"], cv=3, verbose=True)\n",
        "svd_pp_rmse_mean = cv_results['test_rmse'].mean()\n",
        "svd_pp_mae_mean = cv_results['test_mae'].mean()\n",
        "print('RMSE mean:', svd_pp_rmse_mean)\n",
        "print('MAE mean:', svd_pp_mae_mean)"
      ],
      "metadata": {
        "colab": {
          "base_uri": "https://localhost:8080/"
        },
        "id": "WSKh4Lx5gIJL",
        "outputId": "5a1b269c-c5d3-408e-b354-8de1a34f8853"
      },
      "execution_count": 8,
      "outputs": [
        {
          "output_type": "stream",
          "name": "stdout",
          "text": [
            "Evaluating RMSE, MAE of algorithm SVDpp on 3 split(s).\n",
            "\n",
            "                  Fold 1  Fold 2  Fold 3  Mean    Std     \n",
            "RMSE (testset)    0.8894  0.8907  0.8878  0.8893  0.0012  \n",
            "MAE (testset)     0.6855  0.6890  0.6852  0.6866  0.0018  \n",
            "Fit time          128.41  124.91  124.57  125.96  1.74    \n",
            "Test time         14.31   14.13   14.35   14.26   0.09    \n",
            "RMSE mean: 0.8892880964566849\n",
            "MAE mean: 0.6865571185505388\n"
          ]
        }
      ]
    },
    {
      "cell_type": "markdown",
      "source": [
        "Алгоритм NMF"
      ],
      "metadata": {
        "id": "0otuTTXqGvxj"
      }
    },
    {
      "cell_type": "code",
      "source": [
        "algo_nmf = NMF()\n",
        "cv_results = cross_validate(algo_nmf, data, measures=[\"RMSE\", \"MAE\"], cv=3, verbose=True)\n",
        "nmf_rmse_mean = cv_results['test_rmse'].mean()\n",
        "nmf_mae_mean = cv_results['test_mae'].mean()\n",
        "print('RMSE mean:', nmf_rmse_mean)\n",
        "print('MAE mean:', nmf_mae_mean)"
      ],
      "metadata": {
        "colab": {
          "base_uri": "https://localhost:8080/"
        },
        "id": "cA784lcBgZI5",
        "outputId": "10767604-0151-4c8d-c734-dc006a60626a"
      },
      "execution_count": 9,
      "outputs": [
        {
          "output_type": "stream",
          "name": "stdout",
          "text": [
            "Evaluating RMSE, MAE of algorithm NMF on 3 split(s).\n",
            "\n",
            "                  Fold 1  Fold 2  Fold 3  Mean    Std     \n",
            "RMSE (testset)    0.9295  0.9421  0.9318  0.9345  0.0055  \n",
            "MAE (testset)     0.7145  0.7217  0.7176  0.7179  0.0030  \n",
            "Fit time          1.45    1.47    1.43    1.45    0.02    \n",
            "Test time         0.24    0.13    0.14    0.17    0.05    \n",
            "RMSE mean: 0.9344626394640189\n",
            "MAE mean: 0.7179346097568469\n"
          ]
        }
      ]
    },
    {
      "cell_type": "markdown",
      "source": [
        "Алгоритм NormalPredictor"
      ],
      "metadata": {
        "id": "A25RPeosGyDi"
      }
    },
    {
      "cell_type": "code",
      "source": [
        "algo_np = NormalPredictor()\n",
        "cv_results = cross_validate(algo_np, data, measures=[\"RMSE\", \"MAE\"], cv=3, verbose=True)\n",
        "np_rmse_mean = cv_results['test_rmse'].mean()\n",
        "np_mae_mean = cv_results['test_mae'].mean()\n",
        "print('RMSE mean:', np_rmse_mean)\n",
        "print('MAE mean:', np_mae_mean)"
      ],
      "metadata": {
        "colab": {
          "base_uri": "https://localhost:8080/"
        },
        "id": "nv2QfJ8HhIX-",
        "outputId": "2566efa1-71f7-425d-d956-3bae1668db7f"
      },
      "execution_count": 10,
      "outputs": [
        {
          "output_type": "stream",
          "name": "stdout",
          "text": [
            "Evaluating RMSE, MAE of algorithm NormalPredictor on 3 split(s).\n",
            "\n",
            "                  Fold 1  Fold 2  Fold 3  Mean    Std     \n",
            "RMSE (testset)    1.4551  1.4599  1.4674  1.4608  0.0051  \n",
            "MAE (testset)     1.1626  1.1646  1.1736  1.1669  0.0048  \n",
            "Fit time          0.06    0.08    0.07    0.07    0.01    \n",
            "Test time         0.22    0.10    0.09    0.14    0.06    \n",
            "RMSE mean: 1.4608066143026213\n",
            "MAE mean: 1.1669030208077806\n"
          ]
        }
      ]
    },
    {
      "cell_type": "markdown",
      "source": [
        "Алгоритм BaselineOnly"
      ],
      "metadata": {
        "id": "d4y8fk0cG2hY"
      }
    },
    {
      "cell_type": "code",
      "source": [
        "algo_bl = BaselineOnly()\n",
        "cv_results = cross_validate(algo_bl, data, measures=[\"RMSE\", \"MAE\"], cv=3, verbose=True)\n",
        "bl_rmse_mean = cv_results['test_rmse'].mean()\n",
        "bl_mae_mean = cv_results['test_mae'].mean()\n",
        "print('RMSE mean:', bl_rmse_mean)\n",
        "print('MAE mean:', bl_mae_mean)"
      ],
      "metadata": {
        "colab": {
          "base_uri": "https://localhost:8080/"
        },
        "id": "r58gZ9NOh694",
        "outputId": "5b1d44c9-f1d8-4f6e-c38a-10bb9d0e179e"
      },
      "execution_count": 11,
      "outputs": [
        {
          "output_type": "stream",
          "name": "stdout",
          "text": [
            "Estimating biases using als...\n",
            "Estimating biases using als...\n",
            "Estimating biases using als...\n",
            "Evaluating RMSE, MAE of algorithm BaselineOnly on 3 split(s).\n",
            "\n",
            "                  Fold 1  Fold 2  Fold 3  Mean    Std     \n",
            "RMSE (testset)    0.8721  0.8813  0.8764  0.8766  0.0038  \n",
            "MAE (testset)     0.6716  0.6805  0.6766  0.6763  0.0037  \n",
            "Fit time          0.09    0.08    0.20    0.12    0.06    \n",
            "Test time         0.23    0.08    0.32    0.21    0.10    \n",
            "RMSE mean: 0.8766000705671303\n",
            "MAE mean: 0.6762507874788805\n"
          ]
        }
      ]
    },
    {
      "cell_type": "markdown",
      "source": [],
      "metadata": {
        "id": "zZhAdw1VG439"
      }
    },
    {
      "cell_type": "markdown",
      "source": [
        "Алгоритм SlopeOne"
      ],
      "metadata": {
        "id": "IhZRFGP6G55h"
      }
    },
    {
      "cell_type": "code",
      "source": [
        "algo_so = SlopeOne()\n",
        "cv_results = cross_validate(algo_so, data, measures=[\"RMSE\", \"MAE\"], cv=3, verbose=True)\n",
        "so_rmse_mean = cv_results['test_rmse'].mean()\n",
        "so_mae_mean = cv_results['test_mae'].mean()\n",
        "print('RMSE mean:', so_rmse_mean)\n",
        "print('MAE mean:', so_mae_mean)"
      ],
      "metadata": {
        "colab": {
          "base_uri": "https://localhost:8080/"
        },
        "id": "2yapMM0OnTN2",
        "outputId": "1ec8c501-48dd-45d6-fbde-49df7be938ae"
      },
      "execution_count": 12,
      "outputs": [
        {
          "output_type": "stream",
          "name": "stdout",
          "text": [
            "Evaluating RMSE, MAE of algorithm SlopeOne on 3 split(s).\n",
            "\n",
            "                  Fold 1  Fold 2  Fold 3  Mean    Std     \n",
            "RMSE (testset)    0.9079  0.9131  0.9129  0.9113  0.0024  \n",
            "MAE (testset)     0.6958  0.6967  0.6985  0.6970  0.0011  \n",
            "Fit time          2.52    1.98    3.10    2.53    0.46    \n",
            "Test time         5.69    7.50    6.72    6.63    0.74    \n",
            "RMSE mean: 0.9113179048710932\n",
            "MAE mean: 0.6969737408953073\n"
          ]
        }
      ]
    },
    {
      "cell_type": "markdown",
      "source": [
        "Алгоритм KNNBasic"
      ],
      "metadata": {
        "id": "x3Dk1DNQG8Qn"
      }
    },
    {
      "cell_type": "code",
      "source": [
        "algo_knn_b = KNNBasic()\n",
        "cv_results = cross_validate(algo_knn_b, data, measures=[\"RMSE\", \"MAE\"], cv=3, verbose=True)\n",
        "knn_b_rmse_mean = cv_results['test_rmse'].mean()\n",
        "knn_b_mae_mean = cv_results['test_mae'].mean()\n",
        "print('RMSE mean:', knn_b_rmse_mean)\n",
        "print('MAE mean:', knn_b_mae_mean)"
      ],
      "metadata": {
        "colab": {
          "base_uri": "https://localhost:8080/"
        },
        "id": "ak90OuaPnouR",
        "outputId": "3db3bfdd-963b-4929-af8e-92148222f0d5"
      },
      "execution_count": 13,
      "outputs": [
        {
          "output_type": "stream",
          "name": "stdout",
          "text": [
            "Computing the msd similarity matrix...\n",
            "Done computing similarity matrix.\n",
            "Computing the msd similarity matrix...\n",
            "Done computing similarity matrix.\n",
            "Computing the msd similarity matrix...\n",
            "Done computing similarity matrix.\n",
            "Evaluating RMSE, MAE of algorithm KNNBasic on 3 split(s).\n",
            "\n",
            "                  Fold 1  Fold 2  Fold 3  Mean    Std     \n",
            "RMSE (testset)    0.9560  0.9487  0.9601  0.9550  0.0047  \n",
            "MAE (testset)     0.7358  0.7246  0.7378  0.7328  0.0058  \n",
            "Fit time          0.04    0.06    0.06    0.05    0.01    \n",
            "Test time         1.30    1.40    1.26    1.32    0.06    \n",
            "RMSE mean: 0.9549520645405187\n",
            "MAE mean: 0.7327654804066004\n"
          ]
        }
      ]
    },
    {
      "cell_type": "markdown",
      "source": [
        "Алгоритм KNNWithMeans"
      ],
      "metadata": {
        "id": "blPRpfAdG-tp"
      }
    },
    {
      "cell_type": "code",
      "source": [
        "algo_knn_m = KNNWithMeans()\n",
        "cv_results = cross_validate(algo_knn_m, data, measures=[\"RMSE\", \"MAE\"], cv=3, verbose=True)\n",
        "knn_m_rmse_mean = cv_results['test_rmse'].mean()\n",
        "knn_m_mae_mean = cv_results['test_mae'].mean()\n",
        "print('RMSE mean:', knn_m_rmse_mean)\n",
        "print('MAE mean:', knn_m_mae_mean)"
      ],
      "metadata": {
        "colab": {
          "base_uri": "https://localhost:8080/"
        },
        "id": "wTRC-8Nbn3Nq",
        "outputId": "ac0aac15-be92-47c0-c5bd-800d6a79f8f2"
      },
      "execution_count": 14,
      "outputs": [
        {
          "output_type": "stream",
          "name": "stdout",
          "text": [
            "Computing the msd similarity matrix...\n",
            "Done computing similarity matrix.\n",
            "Computing the msd similarity matrix...\n",
            "Done computing similarity matrix.\n",
            "Computing the msd similarity matrix...\n",
            "Done computing similarity matrix.\n",
            "Evaluating RMSE, MAE of algorithm KNNWithMeans on 3 split(s).\n",
            "\n",
            "                  Fold 1  Fold 2  Fold 3  Mean    Std     \n",
            "RMSE (testset)    0.9046  0.9070  0.9028  0.9048  0.0017  \n",
            "MAE (testset)     0.6910  0.6943  0.6896  0.6916  0.0019  \n",
            "Fit time          0.07    0.08    0.07    0.07    0.00    \n",
            "Test time         1.35    1.59    1.40    1.44    0.10    \n",
            "RMSE mean: 0.9047958295584424\n",
            "MAE mean: 0.6916434321490864\n"
          ]
        }
      ]
    },
    {
      "cell_type": "markdown",
      "source": [
        "Алгоритм KNNBaseline"
      ],
      "metadata": {
        "id": "078opqGIHBvh"
      }
    },
    {
      "cell_type": "code",
      "source": [
        "algo_knn_bl = KNNBaseline()\n",
        "cv_results = cross_validate(algo_knn_bl, data, measures=[\"RMSE\", \"MAE\"], cv=3, verbose=True)\n",
        "knn_bl_rmse_mean = cv_results['test_rmse'].mean()\n",
        "knn_bl_mae_mean = cv_results['test_mae'].mean()\n",
        "print('RMSE mean:', knn_bl_rmse_mean)\n",
        "print('MAE mean:', knn_bl_mae_mean)"
      ],
      "metadata": {
        "colab": {
          "base_uri": "https://localhost:8080/"
        },
        "id": "qx5mx9l0oB1O",
        "outputId": "ae258c83-4cdd-47f2-c2b7-8d82167b74ca"
      },
      "execution_count": 15,
      "outputs": [
        {
          "output_type": "stream",
          "name": "stdout",
          "text": [
            "Estimating biases using als...\n",
            "Computing the msd similarity matrix...\n",
            "Done computing similarity matrix.\n",
            "Estimating biases using als...\n",
            "Computing the msd similarity matrix...\n",
            "Done computing similarity matrix.\n",
            "Estimating biases using als...\n",
            "Computing the msd similarity matrix...\n",
            "Done computing similarity matrix.\n",
            "Evaluating RMSE, MAE of algorithm KNNBaseline on 3 split(s).\n",
            "\n",
            "                  Fold 1  Fold 2  Fold 3  Mean    Std     \n",
            "RMSE (testset)    0.8809  0.8809  0.8847  0.8822  0.0018  \n",
            "MAE (testset)     0.6757  0.6734  0.6760  0.6750  0.0011  \n",
            "Fit time          0.21    0.15    0.16    0.17    0.03    \n",
            "Test time         2.70    1.66    1.80    2.05    0.46    \n",
            "RMSE mean: 0.8821949950230108\n",
            "MAE mean: 0.675008495524887\n"
          ]
        }
      ]
    },
    {
      "cell_type": "markdown",
      "source": [
        "Алгоритм CoClustering"
      ],
      "metadata": {
        "id": "pZVPuCHSHDxl"
      }
    },
    {
      "cell_type": "code",
      "source": [
        "algo_cc = CoClustering()\n",
        "cv_results = cross_validate(algo_cc, data, measures=[\"RMSE\", \"MAE\"], cv=3, verbose=True)\n",
        "cc_rmse_mean = cv_results['test_rmse'].mean()\n",
        "cc_mae_mean = cv_results['test_mae'].mean()\n",
        "print('RMSE mean:', cc_rmse_mean)\n",
        "print('MAE mean:', cc_mae_mean)"
      ],
      "metadata": {
        "colab": {
          "base_uri": "https://localhost:8080/"
        },
        "id": "D1bLYb_BoFhn",
        "outputId": "70ff5687-5c68-4896-a424-f1081aa39e5f"
      },
      "execution_count": 16,
      "outputs": [
        {
          "output_type": "stream",
          "name": "stdout",
          "text": [
            "Evaluating RMSE, MAE of algorithm CoClustering on 3 split(s).\n",
            "\n",
            "                  Fold 1  Fold 2  Fold 3  Mean    Std     \n",
            "RMSE (testset)    0.9501  0.9500  0.9557  0.9519  0.0027  \n",
            "MAE (testset)     0.7366  0.7366  0.7418  0.7383  0.0024  \n",
            "Fit time          1.71    1.51    1.65    1.62    0.08    \n",
            "Test time         0.11    0.31    0.18    0.20    0.08    \n",
            "RMSE mean: 0.9519274967420149\n",
            "MAE mean: 0.7383397708361068\n"
          ]
        }
      ]
    },
    {
      "cell_type": "markdown",
      "source": [
        "Зведемо отримані результати RMSE та MAE в один датасет, для побудування порівняльного графіку"
      ],
      "metadata": {
        "id": "G1adHYb2HGEV"
      }
    },
    {
      "cell_type": "code",
      "source": [
        "list_algorythms = ['SVD', 'SVD++', 'NMF', 'NormalPredictor', 'BaselineOnly', 'SlopeOne', 'KNNBasic', 'KNNWithMeans', 'KNNBaseline', 'CoClustering']\n",
        "list_rmse = [svd_rmse_mean, svd_pp_rmse_mean, nmf_rmse_mean, np_rmse_mean, bl_rmse_mean, so_rmse_mean, knn_b_rmse_mean, knn_m_rmse_mean, knn_bl_rmse_mean, cc_rmse_mean]\n",
        "list_mae = [svd_mae_mean, svd_pp_mae_mean, nmf_mae_mean, np_mae_mean, bl_mae_mean, so_mae_mean, knn_b_mae_mean, knn_m_mae_mean, knn_bl_mae_mean, cc_mae_mean]"
      ],
      "metadata": {
        "id": "tXUXh3sooiAU"
      },
      "execution_count": 17,
      "outputs": []
    },
    {
      "cell_type": "code",
      "source": [
        "results = pd.DataFrame({'Algorythms': list_algorythms, 'RMSE': list_rmse, 'MAE': list_mae})\n",
        "display(results)"
      ],
      "metadata": {
        "colab": {
          "base_uri": "https://localhost:8080/",
          "height": 363
        },
        "id": "XZVhBmolqjk5",
        "outputId": "e6b0b3d9-4e09-4a61-b5eb-9c7f1f46bca5"
      },
      "execution_count": 18,
      "outputs": [
        {
          "output_type": "display_data",
          "data": {
            "text/plain": [
              "        Algorythms      RMSE       MAE\n",
              "0              SVD  0.902980  0.699492\n",
              "1            SVD++  0.889288  0.686557\n",
              "2              NMF  0.934463  0.717935\n",
              "3  NormalPredictor  1.460807  1.166903\n",
              "4     BaselineOnly  0.876600  0.676251\n",
              "5         SlopeOne  0.911318  0.696974\n",
              "6         KNNBasic  0.954952  0.732765\n",
              "7     KNNWithMeans  0.904796  0.691643\n",
              "8      KNNBaseline  0.882195  0.675008\n",
              "9     CoClustering  0.951927  0.738340"
            ],
            "text/html": [
              "\n",
              "\n",
              "  <div id=\"df-50d5962c-cf55-4f64-a4d2-d5d3273aaf05\">\n",
              "    <div class=\"colab-df-container\">\n",
              "      <div>\n",
              "<style scoped>\n",
              "    .dataframe tbody tr th:only-of-type {\n",
              "        vertical-align: middle;\n",
              "    }\n",
              "\n",
              "    .dataframe tbody tr th {\n",
              "        vertical-align: top;\n",
              "    }\n",
              "\n",
              "    .dataframe thead th {\n",
              "        text-align: right;\n",
              "    }\n",
              "</style>\n",
              "<table border=\"1\" class=\"dataframe\">\n",
              "  <thead>\n",
              "    <tr style=\"text-align: right;\">\n",
              "      <th></th>\n",
              "      <th>Algorythms</th>\n",
              "      <th>RMSE</th>\n",
              "      <th>MAE</th>\n",
              "    </tr>\n",
              "  </thead>\n",
              "  <tbody>\n",
              "    <tr>\n",
              "      <th>0</th>\n",
              "      <td>SVD</td>\n",
              "      <td>0.902980</td>\n",
              "      <td>0.699492</td>\n",
              "    </tr>\n",
              "    <tr>\n",
              "      <th>1</th>\n",
              "      <td>SVD++</td>\n",
              "      <td>0.889288</td>\n",
              "      <td>0.686557</td>\n",
              "    </tr>\n",
              "    <tr>\n",
              "      <th>2</th>\n",
              "      <td>NMF</td>\n",
              "      <td>0.934463</td>\n",
              "      <td>0.717935</td>\n",
              "    </tr>\n",
              "    <tr>\n",
              "      <th>3</th>\n",
              "      <td>NormalPredictor</td>\n",
              "      <td>1.460807</td>\n",
              "      <td>1.166903</td>\n",
              "    </tr>\n",
              "    <tr>\n",
              "      <th>4</th>\n",
              "      <td>BaselineOnly</td>\n",
              "      <td>0.876600</td>\n",
              "      <td>0.676251</td>\n",
              "    </tr>\n",
              "    <tr>\n",
              "      <th>5</th>\n",
              "      <td>SlopeOne</td>\n",
              "      <td>0.911318</td>\n",
              "      <td>0.696974</td>\n",
              "    </tr>\n",
              "    <tr>\n",
              "      <th>6</th>\n",
              "      <td>KNNBasic</td>\n",
              "      <td>0.954952</td>\n",
              "      <td>0.732765</td>\n",
              "    </tr>\n",
              "    <tr>\n",
              "      <th>7</th>\n",
              "      <td>KNNWithMeans</td>\n",
              "      <td>0.904796</td>\n",
              "      <td>0.691643</td>\n",
              "    </tr>\n",
              "    <tr>\n",
              "      <th>8</th>\n",
              "      <td>KNNBaseline</td>\n",
              "      <td>0.882195</td>\n",
              "      <td>0.675008</td>\n",
              "    </tr>\n",
              "    <tr>\n",
              "      <th>9</th>\n",
              "      <td>CoClustering</td>\n",
              "      <td>0.951927</td>\n",
              "      <td>0.738340</td>\n",
              "    </tr>\n",
              "  </tbody>\n",
              "</table>\n",
              "</div>\n",
              "      <button class=\"colab-df-convert\" onclick=\"convertToInteractive('df-50d5962c-cf55-4f64-a4d2-d5d3273aaf05')\"\n",
              "              title=\"Convert this dataframe to an interactive table.\"\n",
              "              style=\"display:none;\">\n",
              "\n",
              "  <svg xmlns=\"http://www.w3.org/2000/svg\" height=\"24px\"viewBox=\"0 0 24 24\"\n",
              "       width=\"24px\">\n",
              "    <path d=\"M0 0h24v24H0V0z\" fill=\"none\"/>\n",
              "    <path d=\"M18.56 5.44l.94 2.06.94-2.06 2.06-.94-2.06-.94-.94-2.06-.94 2.06-2.06.94zm-11 1L8.5 8.5l.94-2.06 2.06-.94-2.06-.94L8.5 2.5l-.94 2.06-2.06.94zm10 10l.94 2.06.94-2.06 2.06-.94-2.06-.94-.94-2.06-.94 2.06-2.06.94z\"/><path d=\"M17.41 7.96l-1.37-1.37c-.4-.4-.92-.59-1.43-.59-.52 0-1.04.2-1.43.59L10.3 9.45l-7.72 7.72c-.78.78-.78 2.05 0 2.83L4 21.41c.39.39.9.59 1.41.59.51 0 1.02-.2 1.41-.59l7.78-7.78 2.81-2.81c.8-.78.8-2.07 0-2.86zM5.41 20L4 18.59l7.72-7.72 1.47 1.35L5.41 20z\"/>\n",
              "  </svg>\n",
              "      </button>\n",
              "\n",
              "\n",
              "\n",
              "    <div id=\"df-7eea51e5-36f1-4007-a52c-f3683b8e665f\">\n",
              "      <button class=\"colab-df-quickchart\" onclick=\"quickchart('df-7eea51e5-36f1-4007-a52c-f3683b8e665f')\"\n",
              "              title=\"Suggest charts.\"\n",
              "              style=\"display:none;\">\n",
              "\n",
              "<svg xmlns=\"http://www.w3.org/2000/svg\" height=\"24px\"viewBox=\"0 0 24 24\"\n",
              "     width=\"24px\">\n",
              "    <g>\n",
              "        <path d=\"M19 3H5c-1.1 0-2 .9-2 2v14c0 1.1.9 2 2 2h14c1.1 0 2-.9 2-2V5c0-1.1-.9-2-2-2zM9 17H7v-7h2v7zm4 0h-2V7h2v10zm4 0h-2v-4h2v4z\"/>\n",
              "    </g>\n",
              "</svg>\n",
              "      </button>\n",
              "    </div>\n",
              "\n",
              "<style>\n",
              "  .colab-df-quickchart {\n",
              "    background-color: #E8F0FE;\n",
              "    border: none;\n",
              "    border-radius: 50%;\n",
              "    cursor: pointer;\n",
              "    display: none;\n",
              "    fill: #1967D2;\n",
              "    height: 32px;\n",
              "    padding: 0 0 0 0;\n",
              "    width: 32px;\n",
              "  }\n",
              "\n",
              "  .colab-df-quickchart:hover {\n",
              "    background-color: #E2EBFA;\n",
              "    box-shadow: 0px 1px 2px rgba(60, 64, 67, 0.3), 0px 1px 3px 1px rgba(60, 64, 67, 0.15);\n",
              "    fill: #174EA6;\n",
              "  }\n",
              "\n",
              "  [theme=dark] .colab-df-quickchart {\n",
              "    background-color: #3B4455;\n",
              "    fill: #D2E3FC;\n",
              "  }\n",
              "\n",
              "  [theme=dark] .colab-df-quickchart:hover {\n",
              "    background-color: #434B5C;\n",
              "    box-shadow: 0px 1px 3px 1px rgba(0, 0, 0, 0.15);\n",
              "    filter: drop-shadow(0px 1px 2px rgba(0, 0, 0, 0.3));\n",
              "    fill: #FFFFFF;\n",
              "  }\n",
              "</style>\n",
              "\n",
              "    <script>\n",
              "      async function quickchart(key) {\n",
              "        const containerElement = document.querySelector('#' + key);\n",
              "        const charts = await google.colab.kernel.invokeFunction(\n",
              "            'suggestCharts', [key], {});\n",
              "      }\n",
              "    </script>\n",
              "\n",
              "      <script>\n",
              "\n",
              "function displayQuickchartButton(domScope) {\n",
              "  let quickchartButtonEl =\n",
              "    domScope.querySelector('#df-7eea51e5-36f1-4007-a52c-f3683b8e665f button.colab-df-quickchart');\n",
              "  quickchartButtonEl.style.display =\n",
              "    google.colab.kernel.accessAllowed ? 'block' : 'none';\n",
              "}\n",
              "\n",
              "        displayQuickchartButton(document);\n",
              "      </script>\n",
              "      <style>\n",
              "    .colab-df-container {\n",
              "      display:flex;\n",
              "      flex-wrap:wrap;\n",
              "      gap: 12px;\n",
              "    }\n",
              "\n",
              "    .colab-df-convert {\n",
              "      background-color: #E8F0FE;\n",
              "      border: none;\n",
              "      border-radius: 50%;\n",
              "      cursor: pointer;\n",
              "      display: none;\n",
              "      fill: #1967D2;\n",
              "      height: 32px;\n",
              "      padding: 0 0 0 0;\n",
              "      width: 32px;\n",
              "    }\n",
              "\n",
              "    .colab-df-convert:hover {\n",
              "      background-color: #E2EBFA;\n",
              "      box-shadow: 0px 1px 2px rgba(60, 64, 67, 0.3), 0px 1px 3px 1px rgba(60, 64, 67, 0.15);\n",
              "      fill: #174EA6;\n",
              "    }\n",
              "\n",
              "    [theme=dark] .colab-df-convert {\n",
              "      background-color: #3B4455;\n",
              "      fill: #D2E3FC;\n",
              "    }\n",
              "\n",
              "    [theme=dark] .colab-df-convert:hover {\n",
              "      background-color: #434B5C;\n",
              "      box-shadow: 0px 1px 3px 1px rgba(0, 0, 0, 0.15);\n",
              "      filter: drop-shadow(0px 1px 2px rgba(0, 0, 0, 0.3));\n",
              "      fill: #FFFFFF;\n",
              "    }\n",
              "  </style>\n",
              "\n",
              "      <script>\n",
              "        const buttonEl =\n",
              "          document.querySelector('#df-50d5962c-cf55-4f64-a4d2-d5d3273aaf05 button.colab-df-convert');\n",
              "        buttonEl.style.display =\n",
              "          google.colab.kernel.accessAllowed ? 'block' : 'none';\n",
              "\n",
              "        async function convertToInteractive(key) {\n",
              "          const element = document.querySelector('#df-50d5962c-cf55-4f64-a4d2-d5d3273aaf05');\n",
              "          const dataTable =\n",
              "            await google.colab.kernel.invokeFunction('convertToInteractive',\n",
              "                                                     [key], {});\n",
              "          if (!dataTable) return;\n",
              "\n",
              "          const docLinkHtml = 'Like what you see? Visit the ' +\n",
              "            '<a target=\"_blank\" href=https://colab.research.google.com/notebooks/data_table.ipynb>data table notebook</a>'\n",
              "            + ' to learn more about interactive tables.';\n",
              "          element.innerHTML = '';\n",
              "          dataTable['output_type'] = 'display_data';\n",
              "          await google.colab.output.renderOutput(dataTable, element);\n",
              "          const docLink = document.createElement('div');\n",
              "          docLink.innerHTML = docLinkHtml;\n",
              "          element.appendChild(docLink);\n",
              "        }\n",
              "      </script>\n",
              "    </div>\n",
              "  </div>\n"
            ]
          },
          "metadata": {}
        }
      ]
    },
    {
      "cell_type": "code",
      "source": [
        "from numpy import size\n",
        "import matplotlib.pyplot as plt\n",
        "\n",
        "plt.bar(results.Algorythms, results.RMSE, color='orange')\n",
        "plt.xticks(rotation=90)\n",
        "for i, value in enumerate(results.RMSE):\n",
        "    plt.text(i, value, str(round(value, 3)), ha='center', va='bottom')\n",
        "plt.title('RMSE from all algorythms')\n",
        "plt.grid()\n",
        "plt.show()"
      ],
      "metadata": {
        "colab": {
          "base_uri": "https://localhost:8080/",
          "height": 551
        },
        "id": "dsuxgJ1BrNNw",
        "outputId": "8625322f-a5a4-4cdc-c388-12885d16b0d9"
      },
      "execution_count": 19,
      "outputs": [
        {
          "output_type": "display_data",
          "data": {
            "text/plain": [
              "<Figure size 640x480 with 1 Axes>"
            ],
            "image/png": "[encoded data removed]"
          },
          "metadata": {}
        }
      ]
    },
    {
      "cell_type": "code",
      "source": [
        "plt.bar(results.Algorythms, results.MAE, color='brown')\n",
        "plt.xticks(rotation=90)\n",
        "for i, value in enumerate(results.MAE):\n",
        "    plt.text(i, value, str(round(value, 3)), ha='center', va='bottom')\n",
        "plt.title('MAE from all algorythms')\n",
        "plt.grid()\n",
        "plt.show()"
      ],
      "metadata": {
        "colab": {
          "base_uri": "https://localhost:8080/",
          "height": 551
        },
        "id": "aBCqqtg0uWPO",
        "outputId": "9de1c0ed-457f-43c5-ecc5-76327e2ad7ce"
      },
      "execution_count": 20,
      "outputs": [
        {
          "output_type": "display_data",
          "data": {
            "text/plain": [
              "<Figure size 640x480 with 1 Axes>"
            ],
            "image/png": "[encoded data removed]"
          },
          "metadata": {}
        }
      ]
    },
    {
      "cell_type": "markdown",
      "source": [
        "Резумуючи, можна сказати, що алгоритми KNNBasic та CoClustering відпрацювали найкраще"
      ],
      "metadata": {
        "id": "kO6HkDiiuaoO"
      }
    }
  ]
}