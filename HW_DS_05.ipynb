{
  "nbformat": 4,
  "nbformat_minor": 0,
  "metadata": {
    "colab": {
      "provenance": [],
      "mount_file_id": "1JzrpTsBWSDmR5ex0594506QA5vVvQdyu",
      "authorship_tag": "ABX9TyN95xVVKdnqxxLh4bJywWL3"
    },
    "kernelspec": {
      "name": "python3",
      "display_name": "Python 3"
    },
    "language_info": {
      "name": "python"
    }
  },
  "cells": [
    {
      "cell_type": "markdown",
      "source": [
        "## HomeWork 5"
      ],
      "metadata": {
        "id": "AgTkNfOp4Lrt"
      }
    },
    {
      "cell_type": "markdown",
      "source": [
        "За даними акселерометра з мобільного телефону потрібно класифікувати, якою діяльністю займається людина: йде, стоїть, біжить чи йде по сходах. Використайте алгоритми SVM та випадковий ліс з бібліотеки scikit-learn. Як характеристики можете брати показники з акселерометра, проте щоб покращити результати роботи алгоритмів, спочатку можна підготувати наш датасет і розрахувати часові ознаки (time domain features). Порівняйте результати роботи обох алгоритмів на різних фічах та різні моделі між собою."
      ],
      "metadata": {
        "id": "a_MLXEJY0zuM"
      }
    },
    {
      "cell_type": "markdown",
      "source": [
        "- Для використання алгоритму SVM та Random Forest створимо датасет з часовими ознаками файлів з датасету (min, max, mean, std)"
      ],
      "metadata": {
        "id": "CtMzFMON1fnE"
      }
    },
    {
      "cell_type": "code",
      "source": [
        "import os\n",
        "import pandas as pd\n",
        "from sklearn.svm import SVC\n",
        "from sklearn.model_selection import train_test_split, GridSearchCV\n",
        "from sklearn.metrics import accuracy_score, f1_score\n",
        "from sklearn.ensemble import RandomForestClassifier"
      ],
      "metadata": {
        "id": "hlQTRBw611mq"
      },
      "execution_count": 102,
      "outputs": []
    },
    {
      "cell_type": "code",
      "source": [
        "def compute_features(file_path):\n",
        "    df = pd.read_csv(file_path)\n",
        "    features = {\n",
        "        'min_X': df['accelerometer_X'].min(),\n",
        "        'max_X': df['accelerometer_X'].max(),\n",
        "        'mean_X': df['accelerometer_X'].mean(),\n",
        "        'std_X': df['accelerometer_X'].std(),\n",
        "        'min_Y': df['accelerometer_Y'].min(),\n",
        "        'max_Y': df['accelerometer_Y'].max(),\n",
        "        'mean_Y': df['accelerometer_Y'].mean(),\n",
        "        'std_Y': df['accelerometer_Y'].std(),\n",
        "        'min_Z': df['accelerometer_Z'].min(),\n",
        "        'max_Z': df['accelerometer_Z'].max(),\n",
        "        'mean_Z': df['accelerometer_Z'].mean(),\n",
        "        'std_Z': df['accelerometer_Z'].std(),\n",
        "    }\n",
        "    return features"
      ],
      "metadata": {
        "id": "N8hhFlJFJdAH"
      },
      "execution_count": 101,
      "outputs": []
    },
    {
      "cell_type": "code",
      "source": [
        "data_folder = '/content/drive/MyDrive/Colab Notebooks/Data_hw5'\n",
        "activities = {'idle': 1, 'running': 2, 'stairs': 3, 'walking': 4}\n",
        "data = []\n",
        "\n",
        "for activity, value in activities.items():\n",
        "    activity_folder = f'{data_folder}/{activity}'\n",
        "    for file_name in os.listdir(activity_folder):\n",
        "        file_path = f'{activity_folder}/{file_name}'\n",
        "        features = compute_features(file_path)\n",
        "        features['activity'] = activity\n",
        "        features['activity_num'] = value\n",
        "        data.append(features)"
      ],
      "metadata": {
        "id": "p5ypPXECKyyg"
      },
      "execution_count": 103,
      "outputs": []
    },
    {
      "cell_type": "code",
      "source": [
        "df = pd.DataFrame(data)\n",
        "df.head()"
      ],
      "metadata": {
        "colab": {
          "base_uri": "https://localhost:8080/",
          "height": 423
        },
        "id": "_VKZMMhhLD5d",
        "outputId": "8da0d2ad-2b37-4e3e-eab9-ee523a07d5bb"
      },
      "execution_count": 19,
      "outputs": [
        {
          "output_type": "display_data",
          "data": {
            "text/plain": [
              "          min_X     max_X    mean_X      min_Y     max_Y     mean_Y  \\\n",
              "0     -1.283292 -0.148441 -0.790565   1.230620  2.954445   2.330835   \n",
              "1     -0.263362  5.755661  0.609564  -2.557007  9.179369   0.897028   \n",
              "2      0.134075  0.301669  0.244528  -0.124498  0.028730  -0.030167   \n",
              "3      0.014365  0.632069  0.241016  -0.095768  0.162806  -0.005427   \n",
              "4      0.244209  0.339977  0.273099  -0.138864  0.033519  -0.070389   \n",
              "...         ...       ...       ...        ...       ...        ...   \n",
              "6457  -9.504981  7.527370 -1.742340 -23.376986  3.423709 -10.166738   \n",
              "6458 -15.088259  4.141969 -4.243802 -17.980455 -1.470040 -10.040005   \n",
              "6459 -11.247959  1.010353 -3.037603 -23.376986  0.416591  -9.954133   \n",
              "6460 -13.225570  4.486734 -2.777912 -26.307487  4.951209  -9.039707   \n",
              "6461 -21.571756  4.290410 -3.112143 -26.168625  9.988609  -9.215123   \n",
              "\n",
              "          min_Z      max_Z    mean_Z activity  activity_num  \n",
              "0      8.298303  10.141838  9.400434     idle             1  \n",
              "1      3.026271   9.911995  9.167718     idle             1  \n",
              "2      9.720459   9.797073  9.765630     idle             1  \n",
              "3      9.586384   9.797073  9.751264     idle             1  \n",
              "4      9.720459   9.868899  9.770258     idle             1  \n",
              "...         ...        ...       ...      ...           ...  \n",
              "6457 -26.302700  21.648373 -1.533406  walking             4  \n",
              "6458 -14.695610  17.712305 -1.210508  walking             4  \n",
              "6459  -9.457097  20.944477 -0.826319  walking             4  \n",
              "6460 -17.353174  11.832145 -1.515210  walking             4  \n",
              "6461 -20.369867  20.168755 -1.663651  walking             4  \n",
              "\n",
              "[6462 rows x 11 columns]"
            ],
            "text/html": [
              "\n",
              "\n",
              "  <div id=\"df-18772cc4-8a9d-4e96-9f3b-3e1f30d9ac60\">\n",
              "    <div class=\"colab-df-container\">\n",
              "      <div>\n",
              "<style scoped>\n",
              "    .dataframe tbody tr th:only-of-type {\n",
              "        vertical-align: middle;\n",
              "    }\n",
              "\n",
              "    .dataframe tbody tr th {\n",
              "        vertical-align: top;\n",
              "    }\n",
              "\n",
              "    .dataframe thead th {\n",
              "        text-align: right;\n",
              "    }\n",
              "</style>\n",
              "<table border=\"1\" class=\"dataframe\">\n",
              "  <thead>\n",
              "    <tr style=\"text-align: right;\">\n",
              "      <th></th>\n",
              "      <th>min_X</th>\n",
              "      <th>max_X</th>\n",
              "      <th>mean_X</th>\n",
              "      <th>min_Y</th>\n",
              "      <th>max_Y</th>\n",
              "      <th>mean_Y</th>\n",
              "      <th>min_Z</th>\n",
              "      <th>max_Z</th>\n",
              "      <th>mean_Z</th>\n",
              "      <th>activity</th>\n",
              "      <th>activity_num</th>\n",
              "    </tr>\n",
              "  </thead>\n",
              "  <tbody>\n",
              "    <tr>\n",
              "      <th>0</th>\n",
              "      <td>-1.283292</td>\n",
              "      <td>-0.148441</td>\n",
              "      <td>-0.790565</td>\n",
              "      <td>1.230620</td>\n",
              "      <td>2.954445</td>\n",
              "      <td>2.330835</td>\n",
              "      <td>8.298303</td>\n",
              "      <td>10.141838</td>\n",
              "      <td>9.400434</td>\n",
              "      <td>idle</td>\n",
              "      <td>1</td>\n",
              "    </tr>\n",
              "    <tr>\n",
              "      <th>1</th>\n",
              "      <td>-0.263362</td>\n",
              "      <td>5.755661</td>\n",
              "      <td>0.609564</td>\n",
              "      <td>-2.557007</td>\n",
              "      <td>9.179369</td>\n",
              "      <td>0.897028</td>\n",
              "      <td>3.026271</td>\n",
              "      <td>9.911995</td>\n",
              "      <td>9.167718</td>\n",
              "      <td>idle</td>\n",
              "      <td>1</td>\n",
              "    </tr>\n",
              "    <tr>\n",
              "      <th>2</th>\n",
              "      <td>0.134075</td>\n",
              "      <td>0.301669</td>\n",
              "      <td>0.244528</td>\n",
              "      <td>-0.124498</td>\n",
              "      <td>0.028730</td>\n",
              "      <td>-0.030167</td>\n",
              "      <td>9.720459</td>\n",
              "      <td>9.797073</td>\n",
              "      <td>9.765630</td>\n",
              "      <td>idle</td>\n",
              "      <td>1</td>\n",
              "    </tr>\n",
              "    <tr>\n",
              "      <th>3</th>\n",
              "      <td>0.014365</td>\n",
              "      <td>0.632069</td>\n",
              "      <td>0.241016</td>\n",
              "      <td>-0.095768</td>\n",
              "      <td>0.162806</td>\n",
              "      <td>-0.005427</td>\n",
              "      <td>9.586384</td>\n",
              "      <td>9.797073</td>\n",
              "      <td>9.751264</td>\n",
              "      <td>idle</td>\n",
              "      <td>1</td>\n",
              "    </tr>\n",
              "    <tr>\n",
              "      <th>4</th>\n",
              "      <td>0.244209</td>\n",
              "      <td>0.339977</td>\n",
              "      <td>0.273099</td>\n",
              "      <td>-0.138864</td>\n",
              "      <td>0.033519</td>\n",
              "      <td>-0.070389</td>\n",
              "      <td>9.720459</td>\n",
              "      <td>9.868899</td>\n",
              "      <td>9.770258</td>\n",
              "      <td>idle</td>\n",
              "      <td>1</td>\n",
              "    </tr>\n",
              "    <tr>\n",
              "      <th>...</th>\n",
              "      <td>...</td>\n",
              "      <td>...</td>\n",
              "      <td>...</td>\n",
              "      <td>...</td>\n",
              "      <td>...</td>\n",
              "      <td>...</td>\n",
              "      <td>...</td>\n",
              "      <td>...</td>\n",
              "      <td>...</td>\n",
              "      <td>...</td>\n",
              "      <td>...</td>\n",
              "    </tr>\n",
              "    <tr>\n",
              "      <th>6457</th>\n",
              "      <td>-9.504981</td>\n",
              "      <td>7.527370</td>\n",
              "      <td>-1.742340</td>\n",
              "      <td>-23.376986</td>\n",
              "      <td>3.423709</td>\n",
              "      <td>-10.166738</td>\n",
              "      <td>-26.302700</td>\n",
              "      <td>21.648373</td>\n",
              "      <td>-1.533406</td>\n",
              "      <td>walking</td>\n",
              "      <td>4</td>\n",
              "    </tr>\n",
              "    <tr>\n",
              "      <th>6458</th>\n",
              "      <td>-15.088259</td>\n",
              "      <td>4.141969</td>\n",
              "      <td>-4.243802</td>\n",
              "      <td>-17.980455</td>\n",
              "      <td>-1.470040</td>\n",
              "      <td>-10.040005</td>\n",
              "      <td>-14.695610</td>\n",
              "      <td>17.712305</td>\n",
              "      <td>-1.210508</td>\n",
              "      <td>walking</td>\n",
              "      <td>4</td>\n",
              "    </tr>\n",
              "    <tr>\n",
              "      <th>6459</th>\n",
              "      <td>-11.247959</td>\n",
              "      <td>1.010353</td>\n",
              "      <td>-3.037603</td>\n",
              "      <td>-23.376986</td>\n",
              "      <td>0.416591</td>\n",
              "      <td>-9.954133</td>\n",
              "      <td>-9.457097</td>\n",
              "      <td>20.944477</td>\n",
              "      <td>-0.826319</td>\n",
              "      <td>walking</td>\n",
              "      <td>4</td>\n",
              "    </tr>\n",
              "    <tr>\n",
              "      <th>6460</th>\n",
              "      <td>-13.225570</td>\n",
              "      <td>4.486734</td>\n",
              "      <td>-2.777912</td>\n",
              "      <td>-26.307487</td>\n",
              "      <td>4.951209</td>\n",
              "      <td>-9.039707</td>\n",
              "      <td>-17.353174</td>\n",
              "      <td>11.832145</td>\n",
              "      <td>-1.515210</td>\n",
              "      <td>walking</td>\n",
              "      <td>4</td>\n",
              "    </tr>\n",
              "    <tr>\n",
              "      <th>6461</th>\n",
              "      <td>-21.571756</td>\n",
              "      <td>4.290410</td>\n",
              "      <td>-3.112143</td>\n",
              "      <td>-26.168625</td>\n",
              "      <td>9.988609</td>\n",
              "      <td>-9.215123</td>\n",
              "      <td>-20.369867</td>\n",
              "      <td>20.168755</td>\n",
              "      <td>-1.663651</td>\n",
              "      <td>walking</td>\n",
              "      <td>4</td>\n",
              "    </tr>\n",
              "  </tbody>\n",
              "</table>\n",
              "<p>6462 rows × 11 columns</p>\n",
              "</div>\n",
              "      <button class=\"colab-df-convert\" onclick=\"convertToInteractive('df-18772cc4-8a9d-4e96-9f3b-3e1f30d9ac60')\"\n",
              "              title=\"Convert this dataframe to an interactive table.\"\n",
              "              style=\"display:none;\">\n",
              "\n",
              "  <svg xmlns=\"http://www.w3.org/2000/svg\" height=\"24px\"viewBox=\"0 0 24 24\"\n",
              "       width=\"24px\">\n",
              "    <path d=\"M0 0h24v24H0V0z\" fill=\"none\"/>\n",
              "    <path d=\"M18.56 5.44l.94 2.06.94-2.06 2.06-.94-2.06-.94-.94-2.06-.94 2.06-2.06.94zm-11 1L8.5 8.5l.94-2.06 2.06-.94-2.06-.94L8.5 2.5l-.94 2.06-2.06.94zm10 10l.94 2.06.94-2.06 2.06-.94-2.06-.94-.94-2.06-.94 2.06-2.06.94z\"/><path d=\"M17.41 7.96l-1.37-1.37c-.4-.4-.92-.59-1.43-.59-.52 0-1.04.2-1.43.59L10.3 9.45l-7.72 7.72c-.78.78-.78 2.05 0 2.83L4 21.41c.39.39.9.59 1.41.59.51 0 1.02-.2 1.41-.59l7.78-7.78 2.81-2.81c.8-.78.8-2.07 0-2.86zM5.41 20L4 18.59l7.72-7.72 1.47 1.35L5.41 20z\"/>\n",
              "  </svg>\n",
              "      </button>\n",
              "\n",
              "\n",
              "\n",
              "    <div id=\"df-7624ab6c-4952-4e04-8578-f83deb4e2852\">\n",
              "      <button class=\"colab-df-quickchart\" onclick=\"quickchart('df-7624ab6c-4952-4e04-8578-f83deb4e2852')\"\n",
              "              title=\"Suggest charts.\"\n",
              "              style=\"display:none;\">\n",
              "\n",
              "<svg xmlns=\"http://www.w3.org/2000/svg\" height=\"24px\"viewBox=\"0 0 24 24\"\n",
              "     width=\"24px\">\n",
              "    <g>\n",
              "        <path d=\"M19 3H5c-1.1 0-2 .9-2 2v14c0 1.1.9 2 2 2h14c1.1 0 2-.9 2-2V5c0-1.1-.9-2-2-2zM9 17H7v-7h2v7zm4 0h-2V7h2v10zm4 0h-2v-4h2v4z\"/>\n",
              "    </g>\n",
              "</svg>\n",
              "      </button>\n",
              "    </div>\n",
              "\n",
              "<style>\n",
              "  .colab-df-quickchart {\n",
              "    background-color: #E8F0FE;\n",
              "    border: none;\n",
              "    border-radius: 50%;\n",
              "    cursor: pointer;\n",
              "    display: none;\n",
              "    fill: #1967D2;\n",
              "    height: 32px;\n",
              "    padding: 0 0 0 0;\n",
              "    width: 32px;\n",
              "  }\n",
              "\n",
              "  .colab-df-quickchart:hover {\n",
              "    background-color: #E2EBFA;\n",
              "    box-shadow: 0px 1px 2px rgba(60, 64, 67, 0.3), 0px 1px 3px 1px rgba(60, 64, 67, 0.15);\n",
              "    fill: #174EA6;\n",
              "  }\n",
              "\n",
              "  [theme=dark] .colab-df-quickchart {\n",
              "    background-color: #3B4455;\n",
              "    fill: #D2E3FC;\n",
              "  }\n",
              "\n",
              "  [theme=dark] .colab-df-quickchart:hover {\n",
              "    background-color: #434B5C;\n",
              "    box-shadow: 0px 1px 3px 1px rgba(0, 0, 0, 0.15);\n",
              "    filter: drop-shadow(0px 1px 2px rgba(0, 0, 0, 0.3));\n",
              "    fill: #FFFFFF;\n",
              "  }\n",
              "</style>\n",
              "\n",
              "    <script>\n",
              "      async function quickchart(key) {\n",
              "        const containerElement = document.querySelector('#' + key);\n",
              "        const charts = await google.colab.kernel.invokeFunction(\n",
              "            'suggestCharts', [key], {});\n",
              "      }\n",
              "    </script>\n",
              "\n",
              "      <script>\n",
              "\n",
              "function displayQuickchartButton(domScope) {\n",
              "  let quickchartButtonEl =\n",
              "    domScope.querySelector('#df-7624ab6c-4952-4e04-8578-f83deb4e2852 button.colab-df-quickchart');\n",
              "  quickchartButtonEl.style.display =\n",
              "    google.colab.kernel.accessAllowed ? 'block' : 'none';\n",
              "}\n",
              "\n",
              "        displayQuickchartButton(document);\n",
              "      </script>\n",
              "      <style>\n",
              "    .colab-df-container {\n",
              "      display:flex;\n",
              "      flex-wrap:wrap;\n",
              "      gap: 12px;\n",
              "    }\n",
              "\n",
              "    .colab-df-convert {\n",
              "      background-color: #E8F0FE;\n",
              "      border: none;\n",
              "      border-radius: 50%;\n",
              "      cursor: pointer;\n",
              "      display: none;\n",
              "      fill: #1967D2;\n",
              "      height: 32px;\n",
              "      padding: 0 0 0 0;\n",
              "      width: 32px;\n",
              "    }\n",
              "\n",
              "    .colab-df-convert:hover {\n",
              "      background-color: #E2EBFA;\n",
              "      box-shadow: 0px 1px 2px rgba(60, 64, 67, 0.3), 0px 1px 3px 1px rgba(60, 64, 67, 0.15);\n",
              "      fill: #174EA6;\n",
              "    }\n",
              "\n",
              "    [theme=dark] .colab-df-convert {\n",
              "      background-color: #3B4455;\n",
              "      fill: #D2E3FC;\n",
              "    }\n",
              "\n",
              "    [theme=dark] .colab-df-convert:hover {\n",
              "      background-color: #434B5C;\n",
              "      box-shadow: 0px 1px 3px 1px rgba(0, 0, 0, 0.15);\n",
              "      filter: drop-shadow(0px 1px 2px rgba(0, 0, 0, 0.3));\n",
              "      fill: #FFFFFF;\n",
              "    }\n",
              "  </style>\n",
              "\n",
              "      <script>\n",
              "        const buttonEl =\n",
              "          document.querySelector('#df-18772cc4-8a9d-4e96-9f3b-3e1f30d9ac60 button.colab-df-convert');\n",
              "        buttonEl.style.display =\n",
              "          google.colab.kernel.accessAllowed ? 'block' : 'none';\n",
              "\n",
              "        async function convertToInteractive(key) {\n",
              "          const element = document.querySelector('#df-18772cc4-8a9d-4e96-9f3b-3e1f30d9ac60');\n",
              "          const dataTable =\n",
              "            await google.colab.kernel.invokeFunction('convertToInteractive',\n",
              "                                                     [key], {});\n",
              "          if (!dataTable) return;\n",
              "\n",
              "          const docLinkHtml = 'Like what you see? Visit the ' +\n",
              "            '<a target=\"_blank\" href=https://colab.research.google.com/notebooks/data_table.ipynb>data table notebook</a>'\n",
              "            + ' to learn more about interactive tables.';\n",
              "          element.innerHTML = '';\n",
              "          dataTable['output_type'] = 'display_data';\n",
              "          await google.colab.output.renderOutput(dataTable, element);\n",
              "          const docLink = document.createElement('div');\n",
              "          docLink.innerHTML = docLinkHtml;\n",
              "          element.appendChild(docLink);\n",
              "        }\n",
              "      </script>\n",
              "    </div>\n",
              "  </div>\n"
            ]
          },
          "metadata": {}
        }
      ]
    },
    {
      "cell_type": "markdown",
      "source": [
        "- Визначимо тестову вибірку та знайдемо найкращу модель SVM за допомогою GridSearchCV"
      ],
      "metadata": {
        "id": "NA9yRIBF2WhL"
      }
    },
    {
      "cell_type": "code",
      "source": [
        "X = df.drop(['activity_num', 'activity'], axis=1)\n",
        "y = df['activity_num']\n",
        "\n",
        "X_train, X_test, y_train, y_test = train_test_split(X, y, test_size=0.15, train_size=0.7, random_state=42)\n",
        "\n",
        "svm_classifier = SVC()\n",
        "svm_param_grid = {'C': [0.1, 1.0, 10.0, 100.0],\n",
        "                  'kernel': ['linear', 'rbf', 'poly'],\n",
        "                  'gamma': ['scale', 'auto']}\n",
        "svm_grid_search = GridSearchCV(svm_classifier, svm_param_grid, cv=5, scoring='accuracy')\n",
        "svm_grid_search.fit(X_train, y_train)\n",
        "\n",
        "best_svm_params = svm_grid_search.best_params_\n",
        "best_svm_model = svm_grid_search.best_estimator_"
      ],
      "metadata": {
        "id": "ZEiCOR4xQ6Gz"
      },
      "execution_count": 86,
      "outputs": []
    },
    {
      "cell_type": "code",
      "source": [
        "print(best_svm_params)\n",
        "print(best_svm_model)"
      ],
      "metadata": {
        "colab": {
          "base_uri": "https://localhost:8080/"
        },
        "id": "fm-p732thiHh",
        "outputId": "958ad786-8b2d-48f8-fba5-b681dbaf9a01"
      },
      "execution_count": 88,
      "outputs": [
        {
          "output_type": "stream",
          "name": "stdout",
          "text": [
            "{'C': 100.0, 'gamma': 'scale', 'kernel': 'rbf'}\n",
            "SVC(C=100.0)\n"
          ]
        }
      ]
    },
    {
      "cell_type": "markdown",
      "source": [
        "- Знайдемо найкращу модель Random Forest за допомогою GridSearchCV"
      ],
      "metadata": {
        "id": "tsdvStqf2upF"
      }
    },
    {
      "cell_type": "code",
      "source": [
        "rf_classifier = RandomForestClassifier()\n",
        "rf_param_grid = {'n_estimators': [50, 100, 200],\n",
        "                 'max_depth': [None, 10, 20, 30],\n",
        "                 'min_samples_split': [2, 5, 10]}\n",
        "\n",
        "rf_grid_search = GridSearchCV(rf_classifier, rf_param_grid, cv=5, scoring='accuracy')\n",
        "rf_grid_search.fit(X_train, y_train)\n",
        "\n",
        "best_rf_params = rf_grid_search.best_params_\n",
        "best_rf_model = rf_grid_search.best_estimator_"
      ],
      "metadata": {
        "id": "BnXQbfBATE82"
      },
      "execution_count": 92,
      "outputs": []
    },
    {
      "cell_type": "code",
      "source": [
        "print(best_rf_params)\n",
        "print(best_rf_model)"
      ],
      "metadata": {
        "colab": {
          "base_uri": "https://localhost:8080/"
        },
        "id": "-hHVbUhDi1tC",
        "outputId": "b833f5e3-702d-4b5f-d59e-fe6cfffb0d53"
      },
      "execution_count": 71,
      "outputs": [
        {
          "output_type": "stream",
          "name": "stdout",
          "text": [
            "{'max_depth': 15, 'min_samples_split': 2, 'n_estimators': 50}\n",
            "RandomForestClassifier(max_depth=15, n_estimators=50)\n"
          ]
        }
      ]
    },
    {
      "cell_type": "markdown",
      "source": [
        "- Знайдемо показники точності та F1 для алгоритмів SVM та Random Forest"
      ],
      "metadata": {
        "id": "ZArL__iz2_Yn"
      }
    },
    {
      "cell_type": "code",
      "source": [
        "svm_preds = best_svm_model.predict(X_test)\n",
        "rf_preds = best_rf_model.predict(X_test)\n",
        "\n",
        "svm_accuracy = accuracy_score(y_test, svm_preds)\n",
        "rf_accuracy = accuracy_score(y_test, rf_preds)\n",
        "\n",
        "svm_f1 = f1_score(y_test, svm_preds, average='weighted')\n",
        "rf_f1 = f1_score(y_test, rf_preds, average='weighted')\n",
        "\n",
        "print(f'SVM accuracy: {svm_accuracy}')\n",
        "print(f'Random Forest accuracy: {rf_accuracy}')\n",
        "print(f'SVM F1: {svm_f1}')\n",
        "print(f'Random Forest F1: {rf_f1}')"
      ],
      "metadata": {
        "colab": {
          "base_uri": "https://localhost:8080/"
        },
        "id": "Yn5KU4RHmjAg",
        "outputId": "0e438a47-dbd2-43b0-9fe0-88fcd65b7e67"
      },
      "execution_count": 104,
      "outputs": [
        {
          "output_type": "stream",
          "name": "stdout",
          "text": [
            "SVM accuracy: 0.9948453608247423\n",
            "Random Forest accuracy: 0.9989690721649485\n",
            "SVM F1: 0.9947901696048265\n",
            "Random Forest F1: 0.9989795741203024\n"
          ]
        }
      ]
    },
    {
      "cell_type": "code",
      "source": [
        "import matplotlib.pyplot as plt\n",
        "\n",
        "accuracies = [svm_accuracy, rf_accuracy]\n",
        "f1_scores = [svm_f1, rf_f1]\n",
        "\n",
        "models = ['SVM', 'Random Forest']\n",
        "\n",
        "fig, axs = plt.subplots(1, 2, figsize=(12, 5))\n",
        "\n",
        "axs[0].bar(models, accuracies, color=['blue', 'green'])\n",
        "axs[0].set_xlabel('Модель')\n",
        "axs[0].set_ylabel('Точність')\n",
        "axs[0].set_title('Порівняння точності між SVM та Random Forest моделями')\n",
        "axs[0].set_ylim(0.98, 1.0)\n",
        "\n",
        "axs[1].bar(models, f1_scores, color=['blue', 'green'])\n",
        "axs[1].set_xlabel('Модель')\n",
        "axs[1].set_ylabel('F1-міра')\n",
        "axs[1].set_title('Порівняння F1-мір між SVM та Random Forest моделями')\n",
        "axs[1].set_ylim(0.98, 1.0)\n",
        "\n",
        "plt.tight_layout()\n",
        "plt.show()\n"
      ],
      "metadata": {
        "colab": {
          "base_uri": "https://localhost:8080/",
          "height": 507
        },
        "id": "b14VuZuAsVZg",
        "outputId": "f1eb5031-7d38-47d4-9ff7-2a9a4c9a5156"
      },
      "execution_count": 95,
      "outputs": [
        {
          "output_type": "display_data",
          "data": {
            "text/plain": [
              "<Figure size 1200x500 with 2 Axes>"
            ],
            "image/png": "[encoded data removed]"
          },
          "metadata": {}
        }
      ]
    },
    {
      "cell_type": "markdown",
      "source": [
        "**Висновок:** *В цілому, обидві моделі досягли високої точності та F1-міри, що свідчить про їхню хорошу роботу у класифікації діяльностей на основі даних акселерометра. Але модель Random Forest має невелику перевагу над моделлю SVM у цьому конкретному наборі даних.*"
      ],
      "metadata": {
        "id": "bauhu5as3vh2"
      }
    }
  ]
}