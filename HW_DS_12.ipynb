{
  "nbformat": 4,
  "nbformat_minor": 0,
  "metadata": {
    "colab": {
      "provenance": [],
      "authorship_tag": "ABX9TyMQeBwS1oFXIfu4/lZgt3Fk"
    },
    "kernelspec": {
      "name": "python3",
      "display_name": "Python 3"
    },
    "language_info": {
      "name": "python"
    }
  },
  "cells": [
    {
      "cell_type": "code",
      "execution_count": 192,
      "metadata": {
        "id": "3CbKCTLT1f8B"
      },
      "outputs": [],
      "source": [
        "import spacy\n",
        "import nltk\n",
        "from nltk.corpus import stopwords\n",
        "from nltk.tokenize import word_tokenize, sent_tokenize\n",
        "from heapq import nlargest\n",
        "import string\n",
        "from spacy.lang.en.stop_words import STOP_WORDS"
      ]
    },
    {
      "cell_type": "markdown",
      "source": [
        "## NLTK"
      ],
      "metadata": {
        "id": "PnZlQbIsXRT8"
      }
    },
    {
      "cell_type": "code",
      "source": [
        "text1 = 'The Orbiter Discovery, OV-103, is considered eligible for listing in the National Register of Historic Places (NRHP) in the context of the U.S. Space Shuttle Program (1969-2011) under Criterion A in the areas of Space Exploration and Transportation and under Criterion C in the area of Engineering. Because it has achieved significance within the past fifty years, Criteria Consideration G applies. Under Criterion A, Discovery is significant as the oldest of the three extant orbiter vehicles constructed for the Space Shuttle Program (SSP), the longest running American space program to date; she was the third of five orbiters built by NASA. Unlike the Mercury, Gemini, and Apollo programs, the SSP’s emphasis was on cost effectiveness and reusability, and eventually the construction of a space station. Including her maiden voyage (launched August 30, 1984), Discovery flew to space thirty-nine times, more than any of the other four orbiters; she was also the first orbiter to fly twenty missions. She had the honor of being chosen as the Return to Flight vehicle after both the Challenger and Columbia accidents. Discovery was the first shuttle to fly with the redesigned SRBs, a result of the Challenger accident, and the first shuttle to fly with the Phase II and Block I SSME. Discovery also carried the Hubble Space Telescope to orbit and performed two of the five servicing missions to the observatory. She flew the first and last dedicated Department of Defense (DoD) missions, as well as the first unclassified defense-related mission. In addition, Discovery was vital to the construction of the International Space Station (ISS); she flew thirteen of the thirty-seven total missions flown to the station by a U.S. Space Shuttle. She was the first orbiter to dock to the ISS, and the first to perform an exchange of a resident crew. Under Criterion C, Discovery is significant as a feat of engineering. According to Wayne Hale, a flight director from Johnson Space Center, the Space Shuttle orbiter represents a “huge technological leap from expendable rockets and capsules to a reusable, winged, hypersonic, cargo-carrying spacecraft.” Although her base structure followed a conventional aircraft design, she used advanced materials that both minimized her weight for cargo-carrying purposes and featured low thermal expansion ratios, which provided a stable base for her Thermal Protection System (TPS) materials. The Space Shuttle orbiter also featured the first reusable TPS; all previous spaceflight vehicles had a single-use, ablative heat shield. Other notable engineering achievements of the orbiter included the first reusable orbital propulsion system, and the first two-fault-tolerant Integrated Avionics System. As Hale stated, the Space Shuttle remains “the largest, fastest, winged hypersonic aircraft in history,” having regularly flown at twenty-five times the speed of sound.'"
      ],
      "metadata": {
        "id": "SWzZyG4uakhS"
      },
      "execution_count": 219,
      "outputs": []
    },
    {
      "cell_type": "code",
      "source": [
        "nltk.download('stopwords')\n",
        "nltk.download('punkt')\n",
        "nl_stop_words = set(stopwords.words('english'))\n",
        "nl_tokens = word_tokenize(text1)\n",
        "nl_sentences = sent_tokenize(text1)\n",
        "punctuation = string.punctuation + '\\n'"
      ],
      "metadata": {
        "colab": {
          "base_uri": "https://localhost:8080/"
        },
        "id": "N9V6wATMSM6e",
        "outputId": "6302fa4b-cdc8-4fce-873c-82a0c96b6184"
      },
      "execution_count": 220,
      "outputs": [
        {
          "output_type": "stream",
          "name": "stderr",
          "text": [
            "[nltk_data] Downloading package stopwords to /root/nltk_data...\n",
            "[nltk_data]   Package stopwords is already up-to-date!\n",
            "[nltk_data] Downloading package punkt to /root/nltk_data...\n",
            "[nltk_data]   Package punkt is already up-to-date!\n"
          ]
        }
      ]
    },
    {
      "cell_type": "code",
      "source": [
        "print('NLTK tokens =', len(nl_tokens))\n",
        "print('NLTK sentences =', len(nl_sentences))"
      ],
      "metadata": {
        "colab": {
          "base_uri": "https://localhost:8080/"
        },
        "id": "5znIwRvqgJqk",
        "outputId": "dce6ca23-0761-47d7-97b2-0f7e34b34dea"
      },
      "execution_count": 221,
      "outputs": [
        {
          "output_type": "stream",
          "name": "stdout",
          "text": [
            "NLTK tokens = 519\n",
            "NLTK sentences = 16\n"
          ]
        }
      ]
    },
    {
      "cell_type": "markdown",
      "source": [
        "Порахуємо частоту використання кожного слова у тексті та нормалізуємо дані значення"
      ],
      "metadata": {
        "id": "H0NgCB3djWQR"
      }
    },
    {
      "cell_type": "code",
      "source": [
        "nl_word_frequencies = {}\n",
        "\n",
        "for word in nl_tokens:\n",
        "  if word.lower() not in nl_stop_words:\n",
        "    if word.lower() not in punctuation:\n",
        "      if word not in nl_word_frequencies.keys():\n",
        "        nl_word_frequencies[word] = 1\n",
        "      else:\n",
        "        nl_word_frequencies[word] += 1\n",
        "\n",
        "nl_max_word = max(nl_word_frequencies.values())\n",
        "\n",
        "for w in nl_word_frequencies.keys():\n",
        "  nl_word_frequencies[w] = nl_word_frequencies[w] / nl_max_word"
      ],
      "metadata": {
        "id": "Q1vEzJbEaZSp"
      },
      "execution_count": 222,
      "outputs": []
    },
    {
      "cell_type": "code",
      "source": [
        "print(nl_word_frequencies)"
      ],
      "metadata": {
        "colab": {
          "base_uri": "https://localhost:8080/"
        },
        "id": "9uaXMHp8bf7u",
        "outputId": "005659a8-e261-4770-bfbb-5616409e6be4"
      },
      "execution_count": 225,
      "outputs": [
        {
          "output_type": "stream",
          "name": "stdout",
          "text": [
            "{'Orbiter': 0.1, 'Discovery': 0.7, 'OV-103': 0.1, 'considered': 0.1, 'eligible': 0.1, 'listing': 0.1, 'National': 0.1, 'Register': 0.1, 'Historic': 0.1, 'Places': 0.1, 'NRHP': 0.1, 'context': 0.1, 'U.S.': 0.2, 'Space': 1.0, 'Shuttle': 0.6, 'Program': 0.2, '1969-2011': 0.1, 'Criterion': 0.4, 'areas': 0.1, 'Exploration': 0.1, 'Transportation': 0.1, 'C': 0.2, 'area': 0.1, 'Engineering': 0.1, 'achieved': 0.1, 'significance': 0.1, 'within': 0.1, 'past': 0.1, 'fifty': 0.1, 'years': 0.1, 'Criteria': 0.1, 'Consideration': 0.1, 'G': 0.1, 'applies': 0.1, 'significant': 0.2, 'oldest': 0.1, 'three': 0.1, 'extant': 0.1, 'orbiter': 0.6, 'vehicles': 0.2, 'constructed': 0.1, 'SSP': 0.2, 'longest': 0.1, 'running': 0.1, 'American': 0.1, 'space': 0.3, 'program': 0.1, 'date': 0.1, 'third': 0.1, 'five': 0.2, 'orbiters': 0.2, 'built': 0.1, 'NASA': 0.1, 'Unlike': 0.1, 'Mercury': 0.1, 'Gemini': 0.1, 'Apollo': 0.1, 'programs': 0.1, '’': 0.1, 'emphasis': 0.1, 'cost': 0.1, 'effectiveness': 0.1, 'reusability': 0.1, 'eventually': 0.1, 'construction': 0.2, 'station': 0.2, 'Including': 0.1, 'maiden': 0.1, 'voyage': 0.1, 'launched': 0.1, 'August': 0.1, '30': 0.1, '1984': 0.1, 'flew': 0.3, 'thirty-nine': 0.1, 'times': 0.2, 'four': 0.1, 'also': 0.3, 'first': 1.0, 'fly': 0.3, 'twenty': 0.1, 'missions': 0.4, 'honor': 0.1, 'chosen': 0.1, 'Return': 0.1, 'Flight': 0.1, 'vehicle': 0.1, 'Challenger': 0.2, 'Columbia': 0.1, 'accidents': 0.1, 'shuttle': 0.2, 'redesigned': 0.1, 'SRBs': 0.1, 'result': 0.1, 'accident': 0.1, 'Phase': 0.1, 'II': 0.1, 'Block': 0.1, 'SSME': 0.1, 'carried': 0.1, 'Hubble': 0.1, 'Telescope': 0.1, 'orbit': 0.1, 'performed': 0.1, 'two': 0.1, 'servicing': 0.1, 'observatory': 0.1, 'last': 0.1, 'dedicated': 0.1, 'Department': 0.1, 'Defense': 0.1, 'DoD': 0.1, 'well': 0.1, 'unclassified': 0.1, 'defense-related': 0.1, 'mission': 0.1, 'addition': 0.1, 'vital': 0.1, 'International': 0.1, 'Station': 0.1, 'ISS': 0.2, 'thirteen': 0.1, 'thirty-seven': 0.1, 'total': 0.1, 'flown': 0.2, 'dock': 0.1, 'perform': 0.1, 'exchange': 0.1, 'resident': 0.1, 'crew': 0.1, 'feat': 0.1, 'engineering': 0.2, 'According': 0.1, 'Wayne': 0.1, 'Hale': 0.2, 'flight': 0.1, 'director': 0.1, 'Johnson': 0.1, 'Center': 0.1, 'represents': 0.1, '“': 0.2, 'huge': 0.1, 'technological': 0.1, 'leap': 0.1, 'expendable': 0.1, 'rockets': 0.1, 'capsules': 0.1, 'reusable': 0.3, 'winged': 0.2, 'hypersonic': 0.2, 'cargo-carrying': 0.2, 'spacecraft.': 0.1, '”': 0.2, 'Although': 0.1, 'base': 0.2, 'structure': 0.1, 'followed': 0.1, 'conventional': 0.1, 'aircraft': 0.2, 'design': 0.1, 'used': 0.1, 'advanced': 0.1, 'materials': 0.2, 'minimized': 0.1, 'weight': 0.1, 'purposes': 0.1, 'featured': 0.2, 'low': 0.1, 'thermal': 0.1, 'expansion': 0.1, 'ratios': 0.1, 'provided': 0.1, 'stable': 0.1, 'Thermal': 0.1, 'Protection': 0.1, 'System': 0.2, 'TPS': 0.2, 'previous': 0.1, 'spaceflight': 0.1, 'single-use': 0.1, 'ablative': 0.1, 'heat': 0.1, 'shield': 0.1, 'notable': 0.1, 'achievements': 0.1, 'included': 0.1, 'orbital': 0.1, 'propulsion': 0.1, 'system': 0.1, 'two-fault-tolerant': 0.1, 'Integrated': 0.1, 'Avionics': 0.1, 'stated': 0.1, 'remains': 0.1, 'largest': 0.1, 'fastest': 0.1, 'history': 0.1, 'regularly': 0.1, 'twenty-five': 0.1, 'speed': 0.1, 'sound': 0.1}\n"
          ]
        }
      ]
    },
    {
      "cell_type": "markdown",
      "source": [
        "Проведемо оцінку речень, просумувавши нормалізовані значення частоти слів всього тексту у кожному реченні"
      ],
      "metadata": {
        "id": "gaRaESYFjZb7"
      }
    },
    {
      "cell_type": "code",
      "source": [
        "nl_sentence_scores = {}\n",
        "\n",
        "for sent in nl_sentences:\n",
        "    for word in word_tokenize(sent.lower()):\n",
        "        if word.lower() in nl_word_frequencies.keys():\n",
        "            if sent not in nl_sentence_scores:\n",
        "                nl_sentence_scores[sent] = nl_word_frequencies[word.lower()]\n",
        "            else:\n",
        "                nl_sentence_scores[sent] += nl_word_frequencies[word.lower()]\n",
        "\n",
        "display(nl_sentence_scores)"
      ],
      "metadata": {
        "colab": {
          "base_uri": "https://localhost:8080/",
          "height": 401
        },
        "id": "eUHTqHSLbjGH",
        "outputId": "80416585-311b-4f0c-a094-0784359fa18f"
      },
      "execution_count": 230,
      "outputs": [
        {
          "output_type": "display_data",
          "data": {
            "text/plain": [
              "{'The Orbiter Discovery, OV-103, is considered eligible for listing in the National Register of Historic Places (NRHP) in the context of the U.S. Space Shuttle Program (1969-2011) under Criterion A in the areas of Space Exploration and Transportation and under Criterion C in the area of Engineering.': 2.4000000000000004,\n",
              " 'Because it has achieved significance within the past fifty years, Criteria Consideration G applies.': 0.7,\n",
              " 'Under Criterion A, Discovery is significant as the oldest of the three extant orbiter vehicles constructed for the Space Shuttle Program (SSP), the longest running American space program to date; she was the third of five orbiters built by NASA.': 3.3000000000000007,\n",
              " 'Unlike the Mercury, Gemini, and Apollo programs, the SSP’s emphasis was on cost effectiveness and reusability, and eventually the construction of a space station.': 1.4,\n",
              " 'Including her maiden voyage (launched August 30, 1984), Discovery flew to space thirty-nine times, more than any of the other four orbiters; she was also the first orbiter to fly twenty missions.': 4.4,\n",
              " 'She had the honor of being chosen as the Return to Flight vehicle after both the Challenger and Columbia accidents.': 0.5,\n",
              " 'Discovery was the first shuttle to fly with the redesigned SRBs, a result of the Challenger accident, and the first shuttle to fly with the Phase II and Block I SSME.': 3.3000000000000003,\n",
              " 'Discovery also carried the Hubble Space Telescope to orbit and performed two of the five servicing missions to the observatory.': 1.8000000000000003,\n",
              " 'She flew the first and last dedicated Department of Defense (DoD) missions, as well as the first unclassified defense-related mission.': 3.3000000000000007,\n",
              " 'In addition, Discovery was vital to the construction of the International Space Station (ISS); she flew thirteen of the thirty-seven total missions flown to the station by a U.S. Space Shuttle.': 2.8000000000000007,\n",
              " 'She was the first orbiter to dock to the ISS, and the first to perform an exchange of a resident crew.': 3.1000000000000005,\n",
              " 'Under Criterion C, Discovery is significant as a feat of engineering.': 0.5,\n",
              " 'According to Wayne Hale, a flight director from Johnson Space Center, the Space Shuttle orbiter represents a “huge technological leap from expendable rockets and capsules to a reusable, winged, hypersonic, cargo-carrying spacecraft.” Although her base structure followed a conventional aircraft design, she used advanced materials that both minimized her weight for cargo-carrying purposes and featured low thermal expansion ratios, which provided a stable base for her Thermal Protection System (TPS) materials.': 6.799999999999996,\n",
              " 'The Space Shuttle orbiter also featured the first reusable TPS; all previous spaceflight vehicles had a single-use, ablative heat shield.': 3.7000000000000006,\n",
              " 'Other notable engineering achievements of the orbiter included the first reusable orbital propulsion system, and the first two-fault-tolerant Integrated Avionics System.': 3.9000000000000004,\n",
              " 'As Hale stated, the Space Shuttle remains “the largest, fastest, winged hypersonic aircraft in history,” having regularly flown at twenty-five times the speed of sound.': 2.800000000000001}"
            ]
          },
          "metadata": {}
        }
      ]
    },
    {
      "cell_type": "markdown",
      "source": [
        "Виведемо 4 найважливіші речення, що мають слова, які найчастіше зустрічаються у документі"
      ],
      "metadata": {
        "id": "dYy_q4z4jdvt"
      }
    },
    {
      "cell_type": "code",
      "source": [
        "summary = nlargest(4, nl_sentence_scores, key=nl_sentence_scores.get)\n",
        "print(\"Summary:\")\n",
        "for sum in summary:\n",
        "  print(sum)"
      ],
      "metadata": {
        "colab": {
          "base_uri": "https://localhost:8080/"
        },
        "id": "Mh0qBAribnyk",
        "outputId": "7884cda1-dde2-4646-8473-4998ca097ae9"
      },
      "execution_count": 232,
      "outputs": [
        {
          "output_type": "stream",
          "name": "stdout",
          "text": [
            "Summary:\n",
            "According to Wayne Hale, a flight director from Johnson Space Center, the Space Shuttle orbiter represents a “huge technological leap from expendable rockets and capsules to a reusable, winged, hypersonic, cargo-carrying spacecraft.” Although her base structure followed a conventional aircraft design, she used advanced materials that both minimized her weight for cargo-carrying purposes and featured low thermal expansion ratios, which provided a stable base for her Thermal Protection System (TPS) materials.\n",
            "Including her maiden voyage (launched August 30, 1984), Discovery flew to space thirty-nine times, more than any of the other four orbiters; she was also the first orbiter to fly twenty missions.\n",
            "Other notable engineering achievements of the orbiter included the first reusable orbital propulsion system, and the first two-fault-tolerant Integrated Avionics System.\n",
            "The Space Shuttle orbiter also featured the first reusable TPS; all previous spaceflight vehicles had a single-use, ablative heat shield.\n"
          ]
        }
      ]
    },
    {
      "cell_type": "markdown",
      "source": [
        "## SPACY"
      ],
      "metadata": {
        "id": "Wm-dh0hyXK9d"
      }
    },
    {
      "cell_type": "code",
      "source": [
        "text = 'The Orbiter Discovery, OV-103, is considered eligible for listing in the National Register of Historic Places (NRHP) in the context of the U.S. Space Shuttle Program (1969-2011) under Criterion A in the areas of Space Exploration and Transportation and under Criterion C in the area of Engineering. Because it has achieved significance within the past fifty years, Criteria Consideration G applies. Under Criterion A, Discovery is significant as the oldest of the three extant orbiter vehicles constructed for the Space Shuttle Program (SSP), the longest running American space program to date; she was the third of five orbiters built by NASA. Unlike the Mercury, Gemini, and Apollo programs, the SSP’s emphasis was on cost effectiveness and reusability, and eventually the construction of a space station. Including her maiden voyage (launched August 30, 1984), Discovery flew to space thirty-nine times, more than any of the other four orbiters; she was also the first orbiter to fly twenty missions. She had the honor of being chosen as the Return to Flight vehicle after both the Challenger and Columbia accidents. Discovery was the first shuttle to fly with the redesigned SRBs, a result of the Challenger accident, and the first shuttle to fly with the Phase II and Block I SSME. Discovery also carried the Hubble Space Telescope to orbit and performed two of the five servicing missions to the observatory. She flew the first and last dedicated Department of Defense (DoD) missions, as well as the first unclassified defense-related mission. In addition, Discovery was vital to the construction of the International Space Station (ISS); she flew thirteen of the thirty-seven total missions flown to the station by a U.S. Space Shuttle. She was the first orbiter to dock to the ISS, and the first to perform an exchange of a resident crew. Under Criterion C, Discovery is significant as a feat of engineering. According to Wayne Hale, a flight director from Johnson Space Center, the Space Shuttle orbiter represents a “huge technological leap from expendable rockets and capsules to a reusable, winged, hypersonic, cargo-carrying spacecraft.” Although her base structure followed a conventional aircraft design, she used advanced materials that both minimized her weight for cargo-carrying purposes and featured low thermal expansion ratios, which provided a stable base for her Thermal Protection System (TPS) materials. The Space Shuttle orbiter also featured the first reusable TPS; all previous spaceflight vehicles had a single-use, ablative heat shield. Other notable engineering achievements of the orbiter included the first reusable orbital propulsion system, and the first two-fault-tolerant Integrated Avionics System. As Hale stated, the Space Shuttle remains “the largest, fastest, winged hypersonic aircraft in history,” having regularly flown at twenty-five times the speed of sound.'"
      ],
      "metadata": {
        "id": "QrU4N0vm2iUP"
      },
      "execution_count": 135,
      "outputs": []
    },
    {
      "cell_type": "code",
      "source": [
        "sp = spacy.load('en_core_web_sm')\n",
        "doc = sp(text)\n",
        "sp_tokens = word_tokenize(text)\n",
        "stop_words = list(STOP_WORDS)"
      ],
      "metadata": {
        "id": "e7ZvIT4R261Q"
      },
      "execution_count": 172,
      "outputs": []
    },
    {
      "cell_type": "code",
      "source": [
        "print(stop_words)\n",
        "print(punctuation)"
      ],
      "metadata": {
        "colab": {
          "base_uri": "https://localhost:8080/"
        },
        "id": "2spLsoGWQgzm",
        "outputId": "a44f6ddd-43d3-4b05-ee9e-5e0797f2d5d6"
      },
      "execution_count": 139,
      "outputs": [
        {
          "output_type": "stream",
          "name": "stdout",
          "text": [
            "['n‘t', 'along', 'ours', 'within', 'done', 'thereafter', 'give', 'bottom', 'her', 'seem', 'does', 'not', 'with', 'nevertheless', '‘ve', \"'d\", 'every', 'seeming', 'most', 'through', 'always', 'where', 'beside', 'between', 'although', 'into', 'it', 'per', '’ve', 'towards', 'hers', 'us', 'side', '‘s', 'more', 'therefore', 'few', 'on', 'less', 'whereafter', 'should', 'whereas', 'thereby', 'twelve', 'over', 'will', 'one', 'though', 'why', 'serious', 'some', 'during', 'alone', 'whom', 'themselves', 'the', 'become', 'this', 'seemed', 'own', 'anywhere', 'above', 'whereby', 'yet', '’d', 'sometimes', 'latterly', 'and', \"'m\", 'whereupon', 'several', 'you', 'together', 'a', 'myself', 'former', 'i', 'out', 'ten', 'what', 'against', 'whenever', 'moreover', '’m', 'being', 'rather', 'an', 'whatever', 'at', 'noone', 'because', 'he', 'these', 're', 'here', 'ourselves', 'your', 'however', 'everyone', 'no', 'anyway', 'well', 'part', 'off', 'hence', 'such', 'make', 'somehow', 'she', 'wherein', 'up', 'three', 'none', 'least', '‘ll', 'beforehand', 'just', 'whither', 'twenty', 'call', 'everywhere', '’s', 'further', 'another', 'otherwise', 'did', 'formerly', 'whose', 'move', 'seems', \"'ll\", 'except', 'first', 'take', 'eleven', 'herself', 'somewhere', 'anything', 'whether', 'too', 'those', 'really', 'never', 'two', 'keep', 'six', 'they', 'mostly', 'among', 'of', 'me', 'fifteen', 'has', 'thru', 'around', 'nobody', 'whence', 'regarding', '’ll', 'my', 'made', 'n’t', 'even', 'without', \"'ve\", '‘m', 'also', 'itself', 'mine', 'almost', 'could', 'afterwards', 'yourself', 'are', 'whole', 'yours', 'get', 'each', 'say', 'often', 'is', 'both', 'nowhere', 'do', 'sometime', 'since', 'again', 'namely', 'any', 'if', \"'re\", 'throughout', 'hereupon', 'sixty', 'behind', 'someone', 'thus', 'may', \"'s\", 'below', 'who', 'then', 'once', 'else', 'something', 'quite', 'go', 'all', 'them', 'five', 'from', 'many', 'would', 'everything', 'hereafter', 'last', 'by', 'latter', 'was', '‘re', 'under', 'must', 'full', 'back', 'as', 'much', 'put', 'yourselves', 'across', 'about', 'am', '’re', 'toward', 'indeed', 'before', 'eight', 'had', 'herein', 'meanwhile', 'so', 'now', 'nine', 'while', 'hundred', 'due', 'becoming', 'than', 'its', 'others', 'third', 'empty', 'ca', 'wherever', 'anyone', 'please', 'top', 'either', 'after', 'becomes', 'still', 'how', 'whoever', 'already', 'which', 'onto', 'used', 'be', 'fifty', 'or', 'beyond', 'forty', 'amount', 'front', 'upon', 'their', 'neither', 'can', 'we', 'been', 'same', 'that', 'became', 'name', 'doing', 'might', 'himself', 'for', 'very', 'when', 'thereupon', 'using', 'have', 'our', 'see', 'nothing', 'his', 'nor', 'there', 'him', 'in', 'anyhow', '‘d', 'hereby', 'amongst', 'but', 'four', 'enough', 'various', 'show', 'besides', 'down', 'elsewhere', 'until', 'ever', \"n't\", 'unless', 'perhaps', 'therein', 'were', 'cannot', 'other', 'only', 'to', 'via', 'thence', 'next']\n",
            "!\"#$%&'()*+,-./:;<=>?@[\\]^_`{|}~\n",
            "\n"
          ]
        }
      ]
    },
    {
      "cell_type": "markdown",
      "source": [
        "Порахуємо частоту використання кожного слова у тексті та нормалізуємо дані значення"
      ],
      "metadata": {
        "id": "LXPi6olOYdki"
      }
    },
    {
      "cell_type": "code",
      "source": [
        "word_frequencies = {}\n",
        "for word in doc:\n",
        "  if word.text.lower() not in stop_words:\n",
        "    if word.text.lower() not in punctuation:\n",
        "      if word.text not in word_frequencies.keys():\n",
        "        word_frequencies[word.text] = 1\n",
        "      else:\n",
        "        word_frequencies[word.text] += 1\n",
        "\n",
        "max_word = max(word_frequencies.values())\n",
        "\n",
        "for w in word_frequencies.keys():\n",
        "  word_frequencies[w] = word_frequencies[w] / max_word"
      ],
      "metadata": {
        "id": "lMOzwp0BQvE_"
      },
      "execution_count": 140,
      "outputs": []
    },
    {
      "cell_type": "code",
      "source": [
        "print(word_frequencies)"
      ],
      "metadata": {
        "colab": {
          "base_uri": "https://localhost:8080/"
        },
        "id": "d8X28gUzQ1pb",
        "outputId": "6679415b-b6fb-4a0e-b932-d5a8362f3138"
      },
      "execution_count": 227,
      "outputs": [
        {
          "output_type": "stream",
          "name": "stdout",
          "text": [
            "{'Orbiter': 0.1, 'Discovery': 0.7, 'OV-103': 0.1, 'considered': 0.1, 'eligible': 0.1, 'listing': 0.1, 'National': 0.1, 'Register': 0.1, 'Historic': 0.1, 'Places': 0.1, 'NRHP': 0.1, 'context': 0.1, 'U.S.': 0.2, 'Space': 1.0, 'Shuttle': 0.6, 'Program': 0.2, '1969-2011': 0.1, 'Criterion': 0.4, 'areas': 0.1, 'Exploration': 0.1, 'Transportation': 0.1, 'C': 0.2, 'area': 0.1, 'Engineering': 0.1, 'achieved': 0.1, 'significance': 0.1, 'within': 0.1, 'past': 0.1, 'fifty': 0.1, 'years': 0.1, 'Criteria': 0.1, 'Consideration': 0.1, 'G': 0.1, 'applies': 0.1, 'significant': 0.2, 'oldest': 0.1, 'three': 0.1, 'extant': 0.1, 'orbiter': 0.6, 'vehicles': 0.2, 'constructed': 0.1, 'SSP': 0.2, 'longest': 0.1, 'running': 0.1, 'American': 0.1, 'space': 0.3, 'program': 0.1, 'date': 0.1, 'third': 0.1, 'five': 0.2, 'orbiters': 0.2, 'built': 0.1, 'NASA': 0.1, 'Unlike': 0.1, 'Mercury': 0.1, 'Gemini': 0.1, 'Apollo': 0.1, 'programs': 0.1, '’': 0.1, 'emphasis': 0.1, 'cost': 0.1, 'effectiveness': 0.1, 'reusability': 0.1, 'eventually': 0.1, 'construction': 0.2, 'station': 0.2, 'Including': 0.1, 'maiden': 0.1, 'voyage': 0.1, 'launched': 0.1, 'August': 0.1, '30': 0.1, '1984': 0.1, 'flew': 0.3, 'thirty-nine': 0.1, 'times': 0.2, 'four': 0.1, 'also': 0.3, 'first': 1.0, 'fly': 0.3, 'twenty': 0.1, 'missions': 0.4, 'honor': 0.1, 'chosen': 0.1, 'Return': 0.1, 'Flight': 0.1, 'vehicle': 0.1, 'Challenger': 0.2, 'Columbia': 0.1, 'accidents': 0.1, 'shuttle': 0.2, 'redesigned': 0.1, 'SRBs': 0.1, 'result': 0.1, 'accident': 0.1, 'Phase': 0.1, 'II': 0.1, 'Block': 0.1, 'SSME': 0.1, 'carried': 0.1, 'Hubble': 0.1, 'Telescope': 0.1, 'orbit': 0.1, 'performed': 0.1, 'two': 0.1, 'servicing': 0.1, 'observatory': 0.1, 'last': 0.1, 'dedicated': 0.1, 'Department': 0.1, 'Defense': 0.1, 'DoD': 0.1, 'well': 0.1, 'unclassified': 0.1, 'defense-related': 0.1, 'mission': 0.1, 'addition': 0.1, 'vital': 0.1, 'International': 0.1, 'Station': 0.1, 'ISS': 0.2, 'thirteen': 0.1, 'thirty-seven': 0.1, 'total': 0.1, 'flown': 0.2, 'dock': 0.1, 'perform': 0.1, 'exchange': 0.1, 'resident': 0.1, 'crew': 0.1, 'feat': 0.1, 'engineering': 0.2, 'According': 0.1, 'Wayne': 0.1, 'Hale': 0.2, 'flight': 0.1, 'director': 0.1, 'Johnson': 0.1, 'Center': 0.1, 'represents': 0.1, '“': 0.2, 'huge': 0.1, 'technological': 0.1, 'leap': 0.1, 'expendable': 0.1, 'rockets': 0.1, 'capsules': 0.1, 'reusable': 0.3, 'winged': 0.2, 'hypersonic': 0.2, 'cargo-carrying': 0.2, 'spacecraft.': 0.1, '”': 0.2, 'Although': 0.1, 'base': 0.2, 'structure': 0.1, 'followed': 0.1, 'conventional': 0.1, 'aircraft': 0.2, 'design': 0.1, 'used': 0.1, 'advanced': 0.1, 'materials': 0.2, 'minimized': 0.1, 'weight': 0.1, 'purposes': 0.1, 'featured': 0.2, 'low': 0.1, 'thermal': 0.1, 'expansion': 0.1, 'ratios': 0.1, 'provided': 0.1, 'stable': 0.1, 'Thermal': 0.1, 'Protection': 0.1, 'System': 0.2, 'TPS': 0.2, 'previous': 0.1, 'spaceflight': 0.1, 'single-use': 0.1, 'ablative': 0.1, 'heat': 0.1, 'shield': 0.1, 'notable': 0.1, 'achievements': 0.1, 'included': 0.1, 'orbital': 0.1, 'propulsion': 0.1, 'system': 0.1, 'two-fault-tolerant': 0.1, 'Integrated': 0.1, 'Avionics': 0.1, 'stated': 0.1, 'remains': 0.1, 'largest': 0.1, 'fastest': 0.1, 'history': 0.1, 'regularly': 0.1, 'twenty-five': 0.1, 'speed': 0.1, 'sound': 0.1}\n"
          ]
        }
      ]
    },
    {
      "cell_type": "markdown",
      "source": [
        "Проведемо оцінку речень, просумувавши нормалізовані значення частоти слів всього тексту у кожному реченні"
      ],
      "metadata": {
        "id": "EBvTqnmTX2Lv"
      }
    },
    {
      "cell_type": "code",
      "source": [
        "sentence_tokens = list(doc.sents)\n",
        "\n",
        "sentence_scores = {}\n",
        "\n",
        "for sent in sentence_tokens:\n",
        "    for word in sent:\n",
        "        if word.text.lower() in word_frequencies.keys():\n",
        "            if sent not in sentence_scores:\n",
        "                sentence_scores[sent] = word_frequencies[word.text.lower()]\n",
        "            else:\n",
        "                sentence_scores[sent] += word_frequencies[word.text.lower()]"
      ],
      "metadata": {
        "id": "USXOYICy3Vyc"
      },
      "execution_count": null,
      "outputs": []
    },
    {
      "cell_type": "code",
      "source": [
        "display(sentence_scores)"
      ],
      "metadata": {
        "colab": {
          "base_uri": "https://localhost:8080/",
          "height": 437
        },
        "id": "_fDQeU2YcHyR",
        "outputId": "c52710ed-407f-4f9a-90f0-f10841379f9f"
      },
      "execution_count": 153,
      "outputs": [
        {
          "output_type": "display_data",
          "data": {
            "text/plain": [
              "{The Orbiter Discovery, OV-103, is considered eligible for listing in the National Register of Historic Places (NRHP) in the context of the U.S. Space Shuttle Program (1969-2011) under Criterion A in the areas of Space Exploration and Transportation and under Criterion C in the area of Engineering.: 2.5000000000000004,\n",
              " Because it has achieved significance within the past fifty years, Criteria Consideration G applies.: 0.7,\n",
              " Under Criterion A, Discovery is significant as the oldest of the three extant orbiter vehicles constructed for the Space Shuttle Program (SSP), the longest running American space program to date; she was the third of five orbiters built by NASA.: 3.4000000000000004,\n",
              " Unlike the Mercury, Gemini, and Apollo programs, the SSP’s emphasis was on cost effectiveness and reusability, and eventually the construction of a space station.: 1.4,\n",
              " Including her maiden voyage (launched August 30, 1984), Discovery flew to space thirty-nine times, more than any of the other four orbiters; she was also the first orbiter to fly twenty missions.: 4.700000000000001,\n",
              " She had the honor of being chosen as the Return to Flight vehicle after both the Challenger and Columbia accidents.: 0.5,\n",
              " Discovery was the first shuttle to fly with the redesigned SRBs, a result of the Challenger accident, and the first shuttle to fly with the Phase II and Block I SSME.: 3.3000000000000003,\n",
              " Discovery also carried the Hubble Space Telescope to orbit and performed two of the five servicing missions to the observatory.: 2.0,\n",
              " She flew the first and last dedicated Department of Defense (DoD) missions, as well as the first unclassified defense-related mission.: 3.500000000000001,\n",
              " In addition, Discovery was vital to the construction of the International Space Station (ISS); she flew thirteen of the thirty-seven total missions flown to the station by a U.S. Space Shuttle.: 3.0000000000000004,\n",
              " She was the first orbiter to dock to the ISS, and the first to perform an exchange of a resident crew.: 3.1000000000000005,\n",
              " Under Criterion C, Discovery is significant as a feat of engineering.: 0.5,\n",
              " According to Wayne Hale, a flight director from Johnson Space Center, the Space Shuttle orbiter represents a “huge technological leap from expendable rockets and capsules to a reusable, winged, hypersonic, cargo-carrying spacecraft.”: 3.9000000000000012,\n",
              " Although her base structure followed a conventional aircraft design, she used advanced materials that both minimized her weight for cargo-carrying purposes and featured low thermal expansion ratios, which provided a stable base for her Thermal Protection System (TPS) materials.: 3.300000000000001,\n",
              " The Space Shuttle orbiter also featured the first reusable TPS; all previous spaceflight vehicles had a single-use, ablative heat shield.: 3.8000000000000007,\n",
              " Other notable engineering achievements of the orbiter included the first reusable orbital propulsion system, and the first two-fault-tolerant Integrated Avionics System.: 4.199999999999999,\n",
              " As Hale stated, the Space Shuttle remains “the largest, fastest, winged hypersonic aircraft in history,” having regularly flown at twenty-five times the speed of sound.: 3.200000000000001}"
            ]
          },
          "metadata": {}
        }
      ]
    },
    {
      "cell_type": "markdown",
      "source": [
        "Виведемо 3 найважливіші речення, що мають слова, які найчастіше зустрічаються у документі"
      ],
      "metadata": {
        "id": "_ZNZLB8YXuWy"
      }
    },
    {
      "cell_type": "code",
      "source": [
        "summary = nlargest(3, sentence_scores, key=sentence_scores.get)\n",
        "print(\"Summary:\")\n",
        "for sum in summary:\n",
        "  print(sum)"
      ],
      "metadata": {
        "colab": {
          "base_uri": "https://localhost:8080/"
        },
        "id": "kE6EQ1PN8P_L",
        "outputId": "3757a5d0-e2d4-4acb-9830-6699c3d97889"
      },
      "execution_count": 154,
      "outputs": [
        {
          "output_type": "stream",
          "name": "stdout",
          "text": [
            "Summary:\n",
            "Including her maiden voyage (launched August 30, 1984), Discovery flew to space thirty-nine times, more than any of the other four orbiters; she was also the first orbiter to fly twenty missions.\n",
            "Other notable engineering achievements of the orbiter included the first reusable orbital propulsion system, and the first two-fault-tolerant Integrated Avionics System.\n",
            "According to Wayne Hale, a flight director from Johnson Space Center, the Space Shuttle orbiter represents a “huge technological leap from expendable rockets and capsules to a reusable, winged, hypersonic, cargo-carrying spacecraft.”\n"
          ]
        }
      ]
    }
  ]
}